{
 "cells": [
  {
   "cell_type": "markdown",
   "metadata": {
    "id": "q8h4powZ9ZGT"
   },
   "source": [
    "# СМЕШНЫЕ СЛОВА\n",
    "by Паша Чернышев и Лиза Дроздовская\n",
    "\n",
    "**Что мы хотели сделать?**\n",
    "\n",
    "    С помощью машинного обучения понять, что делает некоторые слова смешными (вот просто смешными, без всякой причины). Программа максимум – еще и научить машину предсказывать, смешное ли слово.\n",
    "    \n",
    "**Как мы получили данные?**\n",
    "    \n",
    "1. Гугл форма \n",
    "   \n",
    "    Сначала мы решили посмотреть, что люди вообще имеют в виду под \"смешными словами\". Мы сделали гугл форму с открытыми ответами. В ней было два вопроса: Какие слова вам кажутся смешными? Почему они смешные? На этот опрос ответило 124 человека. После чистки осталось 674 уникальных слова, которые мы назвали \"изначально смешными\". 72 из них были предложены больше одного раза.\n",
    "         \n",
    "2. Создаем список слов\n",
    " \n",
    "    Чтобы сбалансировать выборку, мы загрузили список из 1575 случайных слов (леммы; >4 символов; без имен собственных) из корпуса [ГИКРЯ](http://www.webcorpora.ru/) и разбавили ими наши смешные слова. Получилось всего 2250 (30% смешные, 70% несмешные.\n",
    "    \n",
    "3. Создаем эксперимент    \n",
    "\n",
    "    На следующем этапе мы создали эксперимент на платформе [IBEX](https://spellout.net/ibexfarm). Каждому респонденту предлагалось 2 калибровочных слова (одно смешное, одно несмешное), а после 50 слов, среди которых сохранялась пропорция изначально смешных. Он мог отметить слово как смешное, либо несмешное. \n",
    "    \n",
    "    Из-за технических неполадок после недели (560 ответов) анкету пришлось закрыть, обнулив результаты. После нового запуска анкету заполнило 736 человек.\n",
    "    \n",
    "4. Обработка результатов\n",
    "\n",
    "    Для каждого слова была выведена статистика: среднее значение по всем оценкам; кол-во оценок; среднее отклонение + так же информация по возрастной группе (старше/младше 35) и гендеру.\n",
    "    \n",
    "**Как мы их подготовили?**\n",
    "\n",
    "    Главная сложность этого проекта состоит в том, чтобы понять, какие свойства выделять из слов. Эти свойства можно поделить на формальные и семантические. Вот, какие свойства можно попытаться выделить:\n",
    "\n",
    "Формальные\n",
    "- Длина слова\n",
    "- Н-граммы\n",
    "- Звуки (пока не получается)\n",
    "- Частота встречаемости (пока непонятно как)\n",
    "\n",
    "Семантические\n",
    "- Принадлежность к смешному кластеру (не кластеризуется, явных закономерностей нет)\n",
    "- Неприличность, жаргонность и т.д. (в процессе)\n",
    "- Значение семантических категорий (нерелевантно по-русски)\n",
    "\n",
    "Как видно из списка выше, получилось у нас намного меньше, чем хотелось бы.\n",
    "\n",
    "**Как мы обучали?**\n",
    "\n",
    "    Для начала надо было определить порог. Мы установили его на 0.5. При этом отношение смешных к несмешным получилось 9%/91%.\n",
    "    \n",
    "    Группа американских ученых уже пытались учить машину смешным словам. Cтруктура данных у них другая, да и инструментов для англ языка больше, поэтому их достижения нам мало помогают. Однако они показали, что линейные модели работают лучше всяких других хитрых.\n",
    "    \n",
    "    Мы попробовали и логистическую регрессию, и svm, и лес. Все дают примерно равные результаты."
   ]
  },
  {
   "cell_type": "code",
   "execution_count": 1,
   "metadata": {
    "colab": {
     "base_uri": "https://localhost:8080/"
    },
    "executionInfo": {
     "elapsed": 3331,
     "status": "ok",
     "timestamp": 1611569206871,
     "user": {
      "displayName": "Pavel Chernyshev",
      "photoUrl": "https://lh3.googleusercontent.com/a-/AOh14Gg8b2PvQoRs3F7D-4-MP57OGpvq7v5wEpOY621fBQ=s64",
      "userId": "09623423000235365789"
     },
     "user_tz": -180
    },
    "id": "Jyn6ouhM9ZGi",
    "outputId": "dfc6c04b-47af-40ea-e331-bd1165159679"
   },
   "outputs": [
    {
     "name": "stdout",
     "output_type": "stream",
     "text": [
      "Requirement already satisfied: bs4 in /Users/pasace/opt/anaconda3/lib/python3.8/site-packages (0.0.1)\n",
      "Requirement already satisfied: beautifulsoup4 in /Users/pasace/opt/anaconda3/lib/python3.8/site-packages (from bs4) (4.9.1)\n",
      "Requirement already satisfied: soupsieve>1.2 in /Users/pasace/opt/anaconda3/lib/python3.8/site-packages (from beautifulsoup4->bs4) (2.0.1)\n",
      "\u001b[33mWARNING: You are using pip version 21.0; however, version 21.0.1 is available.\n",
      "You should consider upgrading via the '/Users/pasace/opt/anaconda3/bin/python -m pip install --upgrade pip' command.\u001b[0m\n"
     ]
    }
   ],
   "source": [
    "! pip install bs4"
   ]
  },
  {
   "cell_type": "code",
   "execution_count": 2,
   "metadata": {
    "colab": {
     "base_uri": "https://localhost:8080/"
    },
    "executionInfo": {
     "elapsed": 6271,
     "status": "ok",
     "timestamp": 1611569210205,
     "user": {
      "displayName": "Pavel Chernyshev",
      "photoUrl": "https://lh3.googleusercontent.com/a-/AOh14Gg8b2PvQoRs3F7D-4-MP57OGpvq7v5wEpOY621fBQ=s64",
      "userId": "09623423000235365789"
     },
     "user_tz": -180
    },
    "id": "CzT_9d0d9ZGj",
    "outputId": "f1e93cfb-0cc2-49a8-b26c-b9634a378dde"
   },
   "outputs": [
    {
     "name": "stdout",
     "output_type": "stream",
     "text": [
      "Collecting git+https://github.com/nlpub/pymystem3\n",
      "  Cloning https://github.com/nlpub/pymystem3 to /private/var/folders/3b/l5cn7xys4yn127wpy2zgnfr80000gn/T/pip-req-build-2gmafjkf\n",
      "  Running command git clone -q https://github.com/nlpub/pymystem3 /private/var/folders/3b/l5cn7xys4yn127wpy2zgnfr80000gn/T/pip-req-build-2gmafjkf\n",
      "Requirement already satisfied: requests in /Users/pasace/opt/anaconda3/lib/python3.8/site-packages (from pymystem3==0.2.0) (2.24.0)\n",
      "Requirement already satisfied: idna<3,>=2.5 in /Users/pasace/opt/anaconda3/lib/python3.8/site-packages (from requests->pymystem3==0.2.0) (2.10)\n",
      "Requirement already satisfied: urllib3!=1.25.0,!=1.25.1,<1.26,>=1.21.1 in /Users/pasace/opt/anaconda3/lib/python3.8/site-packages (from requests->pymystem3==0.2.0) (1.25.9)\n",
      "Requirement already satisfied: chardet<4,>=3.0.2 in /Users/pasace/opt/anaconda3/lib/python3.8/site-packages (from requests->pymystem3==0.2.0) (3.0.4)\n",
      "Requirement already satisfied: certifi>=2017.4.17 in /Users/pasace/opt/anaconda3/lib/python3.8/site-packages (from requests->pymystem3==0.2.0) (2020.6.20)\n",
      "\u001b[33mWARNING: You are using pip version 21.0; however, version 21.0.1 is available.\n",
      "You should consider upgrading via the '/Users/pasace/opt/anaconda3/bin/python -m pip install --upgrade pip' command.\u001b[0m\n",
      "Note: you may need to restart the kernel to use updated packages.\n"
     ]
    }
   ],
   "source": [
    "pip install git+https://github.com/nlpub/pymystem3"
   ]
  },
  {
   "cell_type": "code",
   "execution_count": 3,
   "metadata": {
    "executionInfo": {
     "elapsed": 586,
     "status": "ok",
     "timestamp": 1611569218579,
     "user": {
      "displayName": "Pavel Chernyshev",
      "photoUrl": "https://lh3.googleusercontent.com/a-/AOh14Gg8b2PvQoRs3F7D-4-MP57OGpvq7v5wEpOY621fBQ=s64",
      "userId": "09623423000235365789"
     },
     "user_tz": -180
    },
    "id": "tED7d0a89ZGk"
   },
   "outputs": [],
   "source": [
    "import pandas as pd\n",
    "import numpy as np\n",
    "import matplotlib.pyplot as plt\n",
    "import os\n",
    "import re\n",
    "import string\n",
    "from bs4 import BeautifulSoup\n",
    "import copy\n",
    "import unicodedata\n",
    "import sys\n",
    "import requests\n",
    "from pymystem3 import Mystem"
   ]
  },
  {
   "cell_type": "code",
   "execution_count": 4,
   "metadata": {
    "id": "6-gupfaJ9ZGy"
   },
   "outputs": [],
   "source": [
    "from sklearn.feature_extraction.text import CountVectorizer\n",
    "from sklearn.feature_selection import SelectKBest\n",
    "from sklearn.linear_model import LogisticRegression\n",
    "from sklearn.metrics import plot_roc_curve\n",
    "from sklearn.ensemble import RandomForestClassifier"
   ]
  },
  {
   "cell_type": "markdown",
   "metadata": {
    "id": "flXIzd3V9ZGk"
   },
   "source": [
    "# Загружаем данные"
   ]
  },
  {
   "cell_type": "code",
   "execution_count": 5,
   "metadata": {
    "executionInfo": {
     "elapsed": 600,
     "status": "ok",
     "timestamp": 1611569219760,
     "user": {
      "displayName": "Pavel Chernyshev",
      "photoUrl": "https://lh3.googleusercontent.com/a-/AOh14Gg8b2PvQoRs3F7D-4-MP57OGpvq7v5wEpOY621fBQ=s64",
      "userId": "09623423000235365789"
     },
     "user_tz": -180
    },
    "id": "G6hSWCmg9ZGk"
   },
   "outputs": [],
   "source": [
    "path = 'https://raw.githubusercontent.com/Chernechev/RussianFWords/main/RussianFWords_raw.csv'\n",
    "df = pd.read_csv(path)\n",
    "df.rename(columns={'Unnamed: 0':'word'}, inplace=True)"
   ]
  },
  {
   "cell_type": "code",
   "execution_count": 6,
   "metadata": {
    "executionInfo": {
     "elapsed": 1133,
     "status": "ok",
     "timestamp": 1611569220518,
     "user": {
      "displayName": "Pavel Chernyshev",
      "photoUrl": "https://lh3.googleusercontent.com/a-/AOh14Gg8b2PvQoRs3F7D-4-MP57OGpvq7v5wEpOY621fBQ=s64",
      "userId": "09623423000235365789"
     },
     "user_tz": -180
    },
    "id": "1AA2T51Q9ZGl"
   },
   "outputs": [],
   "source": [
    "df['word'] = [w.strip() for w in df['word']]"
   ]
  },
  {
   "cell_type": "code",
   "execution_count": 7,
   "metadata": {
    "colab": {
     "base_uri": "https://localhost:8080/",
     "height": 224
    },
    "executionInfo": {
     "elapsed": 1101,
     "status": "ok",
     "timestamp": 1611569220991,
     "user": {
      "displayName": "Pavel Chernyshev",
      "photoUrl": "https://lh3.googleusercontent.com/a-/AOh14Gg8b2PvQoRs3F7D-4-MP57OGpvq7v5wEpOY621fBQ=s64",
      "userId": "09623423000235365789"
     },
     "user_tz": -180
    },
    "id": "ZJU98plb9ZGl",
    "outputId": "2fb1c085-f4db-4f64-f6a8-14973c7218ac"
   },
   "outputs": [
    {
     "data": {
      "text/html": [
       "<div>\n",
       "<style scoped>\n",
       "    .dataframe tbody tr th:only-of-type {\n",
       "        vertical-align: middle;\n",
       "    }\n",
       "\n",
       "    .dataframe tbody tr th {\n",
       "        vertical-align: top;\n",
       "    }\n",
       "\n",
       "    .dataframe thead th {\n",
       "        text-align: right;\n",
       "    }\n",
       "</style>\n",
       "<table border=\"1\" class=\"dataframe\">\n",
       "  <thead>\n",
       "    <tr style=\"text-align: right;\">\n",
       "      <th></th>\n",
       "      <th>word</th>\n",
       "      <th>orig_funny</th>\n",
       "      <th>group</th>\n",
       "      <th>item</th>\n",
       "      <th>count</th>\n",
       "      <th>mean</th>\n",
       "      <th>std</th>\n",
       "      <th>male_count</th>\n",
       "      <th>male_mean</th>\n",
       "      <th>male_std</th>\n",
       "      <th>female_count</th>\n",
       "      <th>female_mean</th>\n",
       "      <th>female_std</th>\n",
       "      <th>youngly_count</th>\n",
       "      <th>youngly_mean</th>\n",
       "      <th>youngly_std</th>\n",
       "      <th>elderly_count</th>\n",
       "      <th>elderly_mean</th>\n",
       "      <th>elderly_std</th>\n",
       "    </tr>\n",
       "  </thead>\n",
       "  <tbody>\n",
       "    <tr>\n",
       "      <th>0</th>\n",
       "      <td>yевмененько</td>\n",
       "      <td>funny</td>\n",
       "      <td>8.0</td>\n",
       "      <td>400</td>\n",
       "      <td>17.0</td>\n",
       "      <td>0.705882</td>\n",
       "      <td>0.469668</td>\n",
       "      <td>1.0</td>\n",
       "      <td>1.000000</td>\n",
       "      <td>NaN</td>\n",
       "      <td>16.0</td>\n",
       "      <td>0.687500</td>\n",
       "      <td>0.478714</td>\n",
       "      <td>16.0</td>\n",
       "      <td>0.750000</td>\n",
       "      <td>0.447214</td>\n",
       "      <td>1.0</td>\n",
       "      <td>0.0</td>\n",
       "      <td>NaN</td>\n",
       "    </tr>\n",
       "    <tr>\n",
       "      <th>1</th>\n",
       "      <td>абажур</td>\n",
       "      <td>funny</td>\n",
       "      <td>4.0</td>\n",
       "      <td>217</td>\n",
       "      <td>18.0</td>\n",
       "      <td>0.277778</td>\n",
       "      <td>0.460889</td>\n",
       "      <td>6.0</td>\n",
       "      <td>0.166667</td>\n",
       "      <td>0.408248</td>\n",
       "      <td>12.0</td>\n",
       "      <td>0.333333</td>\n",
       "      <td>0.492366</td>\n",
       "      <td>18.0</td>\n",
       "      <td>0.277778</td>\n",
       "      <td>0.460889</td>\n",
       "      <td>NaN</td>\n",
       "      <td>NaN</td>\n",
       "      <td>NaN</td>\n",
       "    </tr>\n",
       "    <tr>\n",
       "      <th>2</th>\n",
       "      <td>аборигенный</td>\n",
       "      <td>unfunny</td>\n",
       "      <td>33.0</td>\n",
       "      <td>1516</td>\n",
       "      <td>28.0</td>\n",
       "      <td>0.071429</td>\n",
       "      <td>0.262265</td>\n",
       "      <td>7.0</td>\n",
       "      <td>0.000000</td>\n",
       "      <td>0.000000</td>\n",
       "      <td>21.0</td>\n",
       "      <td>0.095238</td>\n",
       "      <td>0.300793</td>\n",
       "      <td>28.0</td>\n",
       "      <td>0.071429</td>\n",
       "      <td>0.262265</td>\n",
       "      <td>NaN</td>\n",
       "      <td>NaN</td>\n",
       "      <td>NaN</td>\n",
       "    </tr>\n",
       "    <tr>\n",
       "      <th>3</th>\n",
       "      <td>абсолютно</td>\n",
       "      <td>unfunny</td>\n",
       "      <td>44.0</td>\n",
       "      <td>1995</td>\n",
       "      <td>23.0</td>\n",
       "      <td>0.043478</td>\n",
       "      <td>0.208514</td>\n",
       "      <td>10.0</td>\n",
       "      <td>0.100000</td>\n",
       "      <td>0.316228</td>\n",
       "      <td>13.0</td>\n",
       "      <td>0.000000</td>\n",
       "      <td>0.000000</td>\n",
       "      <td>23.0</td>\n",
       "      <td>0.043478</td>\n",
       "      <td>0.208514</td>\n",
       "      <td>NaN</td>\n",
       "      <td>NaN</td>\n",
       "      <td>NaN</td>\n",
       "    </tr>\n",
       "    <tr>\n",
       "      <th>4</th>\n",
       "      <td>аварец</td>\n",
       "      <td>unfunny</td>\n",
       "      <td>33.0</td>\n",
       "      <td>1518</td>\n",
       "      <td>18.0</td>\n",
       "      <td>0.166667</td>\n",
       "      <td>0.383482</td>\n",
       "      <td>1.0</td>\n",
       "      <td>1.000000</td>\n",
       "      <td>NaN</td>\n",
       "      <td>17.0</td>\n",
       "      <td>0.117647</td>\n",
       "      <td>0.332106</td>\n",
       "      <td>18.0</td>\n",
       "      <td>0.166667</td>\n",
       "      <td>0.383482</td>\n",
       "      <td>NaN</td>\n",
       "      <td>NaN</td>\n",
       "      <td>NaN</td>\n",
       "    </tr>\n",
       "  </tbody>\n",
       "</table>\n",
       "</div>"
      ],
      "text/plain": [
       "          word orig_funny  group  item  count      mean       std  male_count  \\\n",
       "0  yевмененько      funny    8.0   400   17.0  0.705882  0.469668         1.0   \n",
       "1       абажур      funny    4.0   217   18.0  0.277778  0.460889         6.0   \n",
       "2  аборигенный    unfunny   33.0  1516   28.0  0.071429  0.262265         7.0   \n",
       "3    абсолютно    unfunny   44.0  1995   23.0  0.043478  0.208514        10.0   \n",
       "4       аварец    unfunny   33.0  1518   18.0  0.166667  0.383482         1.0   \n",
       "\n",
       "   male_mean  male_std  female_count  female_mean  female_std  youngly_count  \\\n",
       "0   1.000000       NaN          16.0     0.687500    0.478714           16.0   \n",
       "1   0.166667  0.408248          12.0     0.333333    0.492366           18.0   \n",
       "2   0.000000  0.000000          21.0     0.095238    0.300793           28.0   \n",
       "3   0.100000  0.316228          13.0     0.000000    0.000000           23.0   \n",
       "4   1.000000       NaN          17.0     0.117647    0.332106           18.0   \n",
       "\n",
       "   youngly_mean  youngly_std  elderly_count  elderly_mean  elderly_std  \n",
       "0      0.750000     0.447214            1.0           0.0          NaN  \n",
       "1      0.277778     0.460889            NaN           NaN          NaN  \n",
       "2      0.071429     0.262265            NaN           NaN          NaN  \n",
       "3      0.043478     0.208514            NaN           NaN          NaN  \n",
       "4      0.166667     0.383482            NaN           NaN          NaN  "
      ]
     },
     "execution_count": 7,
     "metadata": {},
     "output_type": "execute_result"
    }
   ],
   "source": [
    "df.head()"
   ]
  },
  {
   "cell_type": "code",
   "execution_count": 8,
   "metadata": {
    "executionInfo": {
     "elapsed": 1327,
     "status": "ok",
     "timestamp": 1611569221280,
     "user": {
      "displayName": "Pavel Chernyshev",
      "photoUrl": "https://lh3.googleusercontent.com/a-/AOh14Gg8b2PvQoRs3F7D-4-MP57OGpvq7v5wEpOY621fBQ=s64",
      "userId": "09623423000235365789"
     },
     "user_tz": -180
    },
    "id": "wFOEhzCf9ZGl"
   },
   "outputs": [],
   "source": [
    "#Нумеризируем изначальные статусы слов\n",
    "df.orig_funny = df['orig_funny'].map({'funny':1, 'unfunny':0, 'caliber':2})"
   ]
  },
  {
   "cell_type": "code",
   "execution_count": 9,
   "metadata": {
    "executionInfo": {
     "elapsed": 1143,
     "status": "ok",
     "timestamp": 1611569221285,
     "user": {
      "displayName": "Pavel Chernyshev",
      "photoUrl": "https://lh3.googleusercontent.com/a-/AOh14Gg8b2PvQoRs3F7D-4-MP57OGpvq7v5wEpOY621fBQ=s64",
      "userId": "09623423000235365789"
     },
     "user_tz": -180
    },
    "id": "Qo-UQ_219ZGm"
   },
   "outputs": [],
   "source": [
    "#Убираем лишние колонки\n",
    "df.drop(columns=['group','item'], inplace=True)"
   ]
  },
  {
   "cell_type": "code",
   "execution_count": 10,
   "metadata": {
    "colab": {
     "base_uri": "https://localhost:8080/",
     "height": 317
    },
    "executionInfo": {
     "elapsed": 1063,
     "status": "ok",
     "timestamp": 1611569221297,
     "user": {
      "displayName": "Pavel Chernyshev",
      "photoUrl": "https://lh3.googleusercontent.com/a-/AOh14Gg8b2PvQoRs3F7D-4-MP57OGpvq7v5wEpOY621fBQ=s64",
      "userId": "09623423000235365789"
     },
     "user_tz": -180
    },
    "id": "T4Ng2vzD9ZGm",
    "outputId": "be974bef-a0be-4cdd-97db-31a68ccc705d"
   },
   "outputs": [
    {
     "data": {
      "text/html": [
       "<div>\n",
       "<style scoped>\n",
       "    .dataframe tbody tr th:only-of-type {\n",
       "        vertical-align: middle;\n",
       "    }\n",
       "\n",
       "    .dataframe tbody tr th {\n",
       "        vertical-align: top;\n",
       "    }\n",
       "\n",
       "    .dataframe thead th {\n",
       "        text-align: right;\n",
       "    }\n",
       "</style>\n",
       "<table border=\"1\" class=\"dataframe\">\n",
       "  <thead>\n",
       "    <tr style=\"text-align: right;\">\n",
       "      <th></th>\n",
       "      <th>orig_funny</th>\n",
       "      <th>count</th>\n",
       "      <th>mean</th>\n",
       "      <th>std</th>\n",
       "      <th>male_count</th>\n",
       "      <th>male_mean</th>\n",
       "      <th>male_std</th>\n",
       "      <th>female_count</th>\n",
       "      <th>female_mean</th>\n",
       "      <th>female_std</th>\n",
       "      <th>youngly_count</th>\n",
       "      <th>youngly_mean</th>\n",
       "      <th>youngly_std</th>\n",
       "      <th>elderly_count</th>\n",
       "      <th>elderly_mean</th>\n",
       "      <th>elderly_std</th>\n",
       "    </tr>\n",
       "  </thead>\n",
       "  <tbody>\n",
       "    <tr>\n",
       "      <th>count</th>\n",
       "      <td>2252.000000</td>\n",
       "      <td>2252.000000</td>\n",
       "      <td>2252.000000</td>\n",
       "      <td>2252.000000</td>\n",
       "      <td>2152.000000</td>\n",
       "      <td>2152.000000</td>\n",
       "      <td>1702.000000</td>\n",
       "      <td>2252.000000</td>\n",
       "      <td>2252.000000</td>\n",
       "      <td>2252.000000</td>\n",
       "      <td>2252.000000</td>\n",
       "      <td>2252.000000</td>\n",
       "      <td>2252.000000</td>\n",
       "      <td>252.000000</td>\n",
       "      <td>252.000000</td>\n",
       "      <td>2.000000e+00</td>\n",
       "    </tr>\n",
       "    <tr>\n",
       "      <th>mean</th>\n",
       "      <td>0.301510</td>\n",
       "      <td>16.994671</td>\n",
       "      <td>0.138989</td>\n",
       "      <td>0.200500</td>\n",
       "      <td>3.334572</td>\n",
       "      <td>0.134816</td>\n",
       "      <td>0.142682</td>\n",
       "      <td>13.808171</td>\n",
       "      <td>0.141831</td>\n",
       "      <td>0.196270</td>\n",
       "      <td>16.879218</td>\n",
       "      <td>0.138161</td>\n",
       "      <td>0.198055</td>\n",
       "      <td>1.031746</td>\n",
       "      <td>0.235714</td>\n",
       "      <td>4.472136e-01</td>\n",
       "    </tr>\n",
       "    <tr>\n",
       "      <th>std</th>\n",
       "      <td>0.460947</td>\n",
       "      <td>21.836718</td>\n",
       "      <td>0.211821</td>\n",
       "      <td>0.199526</td>\n",
       "      <td>4.546322</td>\n",
       "      <td>0.270891</td>\n",
       "      <td>0.243699</td>\n",
       "      <td>17.723995</td>\n",
       "      <td>0.218764</td>\n",
       "      <td>0.204370</td>\n",
       "      <td>21.685519</td>\n",
       "      <td>0.212253</td>\n",
       "      <td>0.199947</td>\n",
       "      <td>0.355638</td>\n",
       "      <td>0.423788</td>\n",
       "      <td>1.241267e-16</td>\n",
       "    </tr>\n",
       "    <tr>\n",
       "      <th>min</th>\n",
       "      <td>0.000000</td>\n",
       "      <td>8.000000</td>\n",
       "      <td>0.000000</td>\n",
       "      <td>0.000000</td>\n",
       "      <td>1.000000</td>\n",
       "      <td>0.000000</td>\n",
       "      <td>0.000000</td>\n",
       "      <td>7.000000</td>\n",
       "      <td>0.000000</td>\n",
       "      <td>0.000000</td>\n",
       "      <td>8.000000</td>\n",
       "      <td>0.000000</td>\n",
       "      <td>0.000000</td>\n",
       "      <td>1.000000</td>\n",
       "      <td>0.000000</td>\n",
       "      <td>4.472136e-01</td>\n",
       "    </tr>\n",
       "    <tr>\n",
       "      <th>25%</th>\n",
       "      <td>0.000000</td>\n",
       "      <td>14.000000</td>\n",
       "      <td>0.000000</td>\n",
       "      <td>0.000000</td>\n",
       "      <td>2.000000</td>\n",
       "      <td>0.000000</td>\n",
       "      <td>0.000000</td>\n",
       "      <td>11.000000</td>\n",
       "      <td>0.000000</td>\n",
       "      <td>0.000000</td>\n",
       "      <td>14.000000</td>\n",
       "      <td>0.000000</td>\n",
       "      <td>0.000000</td>\n",
       "      <td>1.000000</td>\n",
       "      <td>0.000000</td>\n",
       "      <td>4.472136e-01</td>\n",
       "    </tr>\n",
       "    <tr>\n",
       "      <th>50%</th>\n",
       "      <td>0.000000</td>\n",
       "      <td>16.000000</td>\n",
       "      <td>0.055556</td>\n",
       "      <td>0.235702</td>\n",
       "      <td>3.000000</td>\n",
       "      <td>0.000000</td>\n",
       "      <td>0.000000</td>\n",
       "      <td>13.000000</td>\n",
       "      <td>0.058824</td>\n",
       "      <td>0.242536</td>\n",
       "      <td>16.000000</td>\n",
       "      <td>0.055556</td>\n",
       "      <td>0.226511</td>\n",
       "      <td>1.000000</td>\n",
       "      <td>0.000000</td>\n",
       "      <td>4.472136e-01</td>\n",
       "    </tr>\n",
       "    <tr>\n",
       "      <th>75%</th>\n",
       "      <td>1.000000</td>\n",
       "      <td>18.000000</td>\n",
       "      <td>0.176471</td>\n",
       "      <td>0.377521</td>\n",
       "      <td>4.000000</td>\n",
       "      <td>0.166667</td>\n",
       "      <td>0.408248</td>\n",
       "      <td>15.000000</td>\n",
       "      <td>0.181818</td>\n",
       "      <td>0.389249</td>\n",
       "      <td>18.000000</td>\n",
       "      <td>0.168478</td>\n",
       "      <td>0.375534</td>\n",
       "      <td>1.000000</td>\n",
       "      <td>0.000000</td>\n",
       "      <td>4.472136e-01</td>\n",
       "    </tr>\n",
       "    <tr>\n",
       "      <th>max</th>\n",
       "      <td>2.000000</td>\n",
       "      <td>736.000000</td>\n",
       "      <td>1.000000</td>\n",
       "      <td>0.534522</td>\n",
       "      <td>138.000000</td>\n",
       "      <td>1.000000</td>\n",
       "      <td>0.707107</td>\n",
       "      <td>598.000000</td>\n",
       "      <td>1.000000</td>\n",
       "      <td>0.534522</td>\n",
       "      <td>731.000000</td>\n",
       "      <td>1.000000</td>\n",
       "      <td>0.534522</td>\n",
       "      <td>5.000000</td>\n",
       "      <td>1.000000</td>\n",
       "      <td>4.472136e-01</td>\n",
       "    </tr>\n",
       "  </tbody>\n",
       "</table>\n",
       "</div>"
      ],
      "text/plain": [
       "        orig_funny        count         mean          std   male_count  \\\n",
       "count  2252.000000  2252.000000  2252.000000  2252.000000  2152.000000   \n",
       "mean      0.301510    16.994671     0.138989     0.200500     3.334572   \n",
       "std       0.460947    21.836718     0.211821     0.199526     4.546322   \n",
       "min       0.000000     8.000000     0.000000     0.000000     1.000000   \n",
       "25%       0.000000    14.000000     0.000000     0.000000     2.000000   \n",
       "50%       0.000000    16.000000     0.055556     0.235702     3.000000   \n",
       "75%       1.000000    18.000000     0.176471     0.377521     4.000000   \n",
       "max       2.000000   736.000000     1.000000     0.534522   138.000000   \n",
       "\n",
       "         male_mean     male_std  female_count  female_mean   female_std  \\\n",
       "count  2152.000000  1702.000000   2252.000000  2252.000000  2252.000000   \n",
       "mean      0.134816     0.142682     13.808171     0.141831     0.196270   \n",
       "std       0.270891     0.243699     17.723995     0.218764     0.204370   \n",
       "min       0.000000     0.000000      7.000000     0.000000     0.000000   \n",
       "25%       0.000000     0.000000     11.000000     0.000000     0.000000   \n",
       "50%       0.000000     0.000000     13.000000     0.058824     0.242536   \n",
       "75%       0.166667     0.408248     15.000000     0.181818     0.389249   \n",
       "max       1.000000     0.707107    598.000000     1.000000     0.534522   \n",
       "\n",
       "       youngly_count  youngly_mean  youngly_std  elderly_count  elderly_mean  \\\n",
       "count    2252.000000   2252.000000  2252.000000     252.000000    252.000000   \n",
       "mean       16.879218      0.138161     0.198055       1.031746      0.235714   \n",
       "std        21.685519      0.212253     0.199947       0.355638      0.423788   \n",
       "min         8.000000      0.000000     0.000000       1.000000      0.000000   \n",
       "25%        14.000000      0.000000     0.000000       1.000000      0.000000   \n",
       "50%        16.000000      0.055556     0.226511       1.000000      0.000000   \n",
       "75%        18.000000      0.168478     0.375534       1.000000      0.000000   \n",
       "max       731.000000      1.000000     0.534522       5.000000      1.000000   \n",
       "\n",
       "        elderly_std  \n",
       "count  2.000000e+00  \n",
       "mean   4.472136e-01  \n",
       "std    1.241267e-16  \n",
       "min    4.472136e-01  \n",
       "25%    4.472136e-01  \n",
       "50%    4.472136e-01  \n",
       "75%    4.472136e-01  \n",
       "max    4.472136e-01  "
      ]
     },
     "execution_count": 10,
     "metadata": {},
     "output_type": "execute_result"
    }
   ],
   "source": [
    "df.describe()"
   ]
  },
  {
   "cell_type": "markdown",
   "metadata": {
    "id": "sOtmW8QT9ZGm"
   },
   "source": [
    "Итого у нас есть 2252 (-2 калибровочных) размеченных слов. Среднее число ответов на одно слово – 16.99\n",
    "\n",
    "Всего респондентов 736 (=count для калибровочных слов)."
   ]
  },
  {
   "cell_type": "code",
   "execution_count": 11,
   "metadata": {
    "colab": {
     "base_uri": "https://localhost:8080/",
     "height": 216
    },
    "executionInfo": {
     "elapsed": 879,
     "status": "ok",
     "timestamp": 1611569221299,
     "user": {
      "displayName": "Pavel Chernyshev",
      "photoUrl": "https://lh3.googleusercontent.com/a-/AOh14Gg8b2PvQoRs3F7D-4-MP57OGpvq7v5wEpOY621fBQ=s64",
      "userId": "09623423000235365789"
     },
     "user_tz": -180
    },
    "id": "zy3gwbxo9ZGn",
    "outputId": "6013be26-a9cd-47af-a4f8-6bcbb64b4a6f"
   },
   "outputs": [
    {
     "name": "stderr",
     "output_type": "stream",
     "text": [
      "/Users/pasace/opt/anaconda3/lib/python3.8/site-packages/pandas/core/frame.py:3990: SettingWithCopyWarning: \n",
      "A value is trying to be set on a copy of a slice from a DataFrame\n",
      "\n",
      "See the caveats in the documentation: https://pandas.pydata.org/pandas-docs/stable/user_guide/indexing.html#returning-a-view-versus-a-copy\n",
      "  return super().drop(\n"
     ]
    },
    {
     "data": {
      "text/html": [
       "<div>\n",
       "<style scoped>\n",
       "    .dataframe tbody tr th:only-of-type {\n",
       "        vertical-align: middle;\n",
       "    }\n",
       "\n",
       "    .dataframe tbody tr th {\n",
       "        vertical-align: top;\n",
       "    }\n",
       "\n",
       "    .dataframe thead th {\n",
       "        text-align: right;\n",
       "    }\n",
       "</style>\n",
       "<table border=\"1\" class=\"dataframe\">\n",
       "  <thead>\n",
       "    <tr style=\"text-align: right;\">\n",
       "      <th></th>\n",
       "      <th>word</th>\n",
       "      <th>orig_funny</th>\n",
       "      <th>count</th>\n",
       "      <th>mean</th>\n",
       "      <th>std</th>\n",
       "      <th>male_count</th>\n",
       "      <th>male_mean</th>\n",
       "      <th>male_std</th>\n",
       "      <th>female_count</th>\n",
       "      <th>female_mean</th>\n",
       "      <th>female_std</th>\n",
       "      <th>youngly_count</th>\n",
       "      <th>youngly_mean</th>\n",
       "      <th>youngly_std</th>\n",
       "      <th>elderly_count</th>\n",
       "      <th>elderly_mean</th>\n",
       "      <th>elderly_std</th>\n",
       "    </tr>\n",
       "  </thead>\n",
       "  <tbody>\n",
       "    <tr>\n",
       "      <th>0</th>\n",
       "      <td>лампа</td>\n",
       "      <td>2</td>\n",
       "      <td>736.0</td>\n",
       "      <td>0.025815</td>\n",
       "      <td>0.158692</td>\n",
       "      <td>138.0</td>\n",
       "      <td>0.050725</td>\n",
       "      <td>0.220234</td>\n",
       "      <td>598.0</td>\n",
       "      <td>0.020067</td>\n",
       "      <td>0.140347</td>\n",
       "      <td>731.0</td>\n",
       "      <td>0.024624</td>\n",
       "      <td>0.155082</td>\n",
       "      <td>5.0</td>\n",
       "      <td>0.2</td>\n",
       "      <td>0.447214</td>\n",
       "    </tr>\n",
       "    <tr>\n",
       "      <th>1</th>\n",
       "      <td>пипидастр</td>\n",
       "      <td>2</td>\n",
       "      <td>736.0</td>\n",
       "      <td>0.620924</td>\n",
       "      <td>0.485487</td>\n",
       "      <td>138.0</td>\n",
       "      <td>0.630435</td>\n",
       "      <td>0.484445</td>\n",
       "      <td>598.0</td>\n",
       "      <td>0.618729</td>\n",
       "      <td>0.486105</td>\n",
       "      <td>731.0</td>\n",
       "      <td>0.623803</td>\n",
       "      <td>0.484762</td>\n",
       "      <td>5.0</td>\n",
       "      <td>0.2</td>\n",
       "      <td>0.447214</td>\n",
       "    </tr>\n",
       "  </tbody>\n",
       "</table>\n",
       "</div>"
      ],
      "text/plain": [
       "        word  orig_funny  count      mean       std  male_count  male_mean  \\\n",
       "0      лампа           2  736.0  0.025815  0.158692       138.0   0.050725   \n",
       "1  пипидастр           2  736.0  0.620924  0.485487       138.0   0.630435   \n",
       "\n",
       "   male_std  female_count  female_mean  female_std  youngly_count  \\\n",
       "0  0.220234         598.0     0.020067    0.140347          731.0   \n",
       "1  0.484445         598.0     0.618729    0.486105          731.0   \n",
       "\n",
       "   youngly_mean  youngly_std  elderly_count  elderly_mean  elderly_std  \n",
       "0      0.024624     0.155082            5.0           0.2     0.447214  \n",
       "1      0.623803     0.484762            5.0           0.2     0.447214  "
      ]
     },
     "execution_count": 11,
     "metadata": {},
     "output_type": "execute_result"
    }
   ],
   "source": [
    "#Убираем калибровочные\n",
    "calibers = df[df['orig_funny'] == 2]\n",
    "df.drop(calibers.index, inplace=True)\n",
    "\n",
    "df.reset_index(inplace=True)\n",
    "df.drop('index', axis=1, inplace=True)\n",
    "calibers.reset_index(inplace=True)\n",
    "calibers.drop('index', axis=1, inplace=True)\n",
    "calibers"
   ]
  },
  {
   "cell_type": "markdown",
   "metadata": {
    "id": "xdnEu1M29ZGn"
   },
   "source": [
    "### EDA\n",
    "#### Какие слова размечаны?"
   ]
  },
  {
   "cell_type": "code",
   "execution_count": 12,
   "metadata": {},
   "outputs": [],
   "source": [
    "fcolor = '#61c747'\n",
    "ucolor = '#c74761'"
   ]
  },
  {
   "cell_type": "code",
   "execution_count": 13,
   "metadata": {
    "colab": {
     "base_uri": "https://localhost:8080/",
     "height": 298
    },
    "executionInfo": {
     "elapsed": 4410,
     "status": "ok",
     "timestamp": 1611569226767,
     "user": {
      "displayName": "Pavel Chernyshev",
      "photoUrl": "https://lh3.googleusercontent.com/a-/AOh14Gg8b2PvQoRs3F7D-4-MP57OGpvq7v5wEpOY621fBQ=s64",
      "userId": "09623423000235365789"
     },
     "user_tz": -180
    },
    "id": "Qjzx48hP9ZGn",
    "outputId": "e6ae4778-a7ec-42c5-c808-2398f284d38d"
   },
   "outputs": [
    {
     "data": {
      "text/plain": [
       "Text(0.5, 1.0, 'Число ответов для одного слова')"
      ]
     },
     "execution_count": 13,
     "metadata": {},
     "output_type": "execute_result"
    },
    {
     "data": {
      "image/png": "[encoded data removed]",
      "text/plain": [
       "<Figure size 504x288 with 1 Axes>"
      ]
     },
     "metadata": {
      "needs_background": "light"
     },
     "output_type": "display_data"
    }
   ],
   "source": [
    "only_f = df[df['orig_funny'] == 1.0]\n",
    "only_u = df[df['orig_funny'] == 0.0]\n",
    "\n",
    "fig, ax = plt.subplots(figsize=(7,4))\n",
    "ax.hist(only_u['count'], bins=20, color=ucolor)\n",
    "ax.hist(only_f['count'], bins=20, color=fcolor)\n",
    "ax.legend(['orig funny', 'orig unfunny'])\n",
    "ax.set_title('Число ответов для одного слова')"
   ]
  },
  {
   "cell_type": "markdown",
   "metadata": {
    "id": "j5ja-Tzz9ZGo"
   },
   "source": [
    "Не ясно, прочему гистограмма такая. \n",
    "\n",
    "Это какие-то особенности работы программы для опросов.\n",
    "Но распределение одинаковое для смешных и несмешных, и разброс не большой, поэтому закроем на это глаза"
   ]
  },
  {
   "cell_type": "code",
   "execution_count": 14,
   "metadata": {
    "colab": {
     "base_uri": "https://localhost:8080/",
     "height": 281
    },
    "executionInfo": {
     "elapsed": 3772,
     "status": "ok",
     "timestamp": 1611569226768,
     "user": {
      "displayName": "Pavel Chernyshev",
      "photoUrl": "https://lh3.googleusercontent.com/a-/AOh14Gg8b2PvQoRs3F7D-4-MP57OGpvq7v5wEpOY621fBQ=s64",
      "userId": "09623423000235365789"
     },
     "user_tz": -180
    },
    "id": "y6duE7Hi9ZGo",
    "outputId": "3039e504-8b7c-41b2-df6d-64dd40b441c7"
   },
   "outputs": [
    {
     "data": {
      "text/plain": [
       "Text(0.5, 1.0, 'Изначально смешные / несмешные слова = 30/70')"
      ]
     },
     "execution_count": 14,
     "metadata": {},
     "output_type": "execute_result"
    },
    {
     "data": {
      "image/png": "[encoded data removed]",
      "text/plain": [
       "<Figure size 432x288 with 1 Axes>"
      ]
     },
     "metadata": {},
     "output_type": "display_data"
    }
   ],
   "source": [
    "for_pie = [df[df['orig_funny'] == 1].shape[0], \n",
    "           df[df['orig_funny'] == 0].shape[0]]\n",
    "\n",
    "plt.pie(for_pie, shadow=True, \n",
    "        labels=[f\"orig funny {for_pie[0]}\", f\"{for_pie[1]} orig unfunny\"], colors=[ucolor,fcolor])\n",
    "plt.gca().set_title('Изначально смешные / несмешные слова = 30/70')"
   ]
  },
  {
   "cell_type": "markdown",
   "metadata": {
    "id": "CF-5R7WE9ZGo"
   },
   "source": [
    "#### Демография"
   ]
  },
  {
   "cell_type": "code",
   "execution_count": 15,
   "metadata": {
    "colab": {
     "base_uri": "https://localhost:8080/",
     "height": 233
    },
    "executionInfo": {
     "elapsed": 21667,
     "status": "ok",
     "timestamp": 1611569245069,
     "user": {
      "displayName": "Pavel Chernyshev",
      "photoUrl": "https://lh3.googleusercontent.com/a-/AOh14Gg8b2PvQoRs3F7D-4-MP57OGpvq7v5wEpOY621fBQ=s64",
      "userId": "09623423000235365789"
     },
     "user_tz": -180
    },
    "id": "0TgswpUa9ZGo",
    "outputId": "51edefaa-9c8a-4447-ecbf-32768cb03f6c"
   },
   "outputs": [
    {
     "data": {
      "image/png": "[encoded data removed]",
      "text/plain": [
       "<Figure size 504x360 with 2 Axes>"
      ]
     },
     "metadata": {},
     "output_type": "display_data"
    }
   ],
   "source": [
    "gend = [calibers.loc[0]['male_count'], calibers.loc[0]['female_count']]\n",
    "age = [calibers.loc[0]['youngly_count'], calibers.loc[0]['elderly_count']]\n",
    "\n",
    "fig,ax = plt.subplots(figsize=(7,5), nrows=1, ncols=2)\n",
    "ax[0].pie(gend, shadow=True, labels=['male', 'female'])\n",
    "ax[0].set_title('Gender distributions')\n",
    "ax[1].pie(age, shadow=True, labels=['young (<35)', 'old (>35)'])\n",
    "ax[1].set_title('Age distributions')\n",
    "plt.tight_layout()"
   ]
  },
  {
   "cell_type": "markdown",
   "metadata": {
    "id": "7KE7GXqr9ZGp"
   },
   "source": [
    "Очень несбалансированная выборка. Поэтому анализом в демографических подгруппах можно и не заниматься."
   ]
  },
  {
   "cell_type": "code",
   "execution_count": 16,
   "metadata": {
    "colab": {
     "base_uri": "https://localhost:8080/"
    },
    "executionInfo": {
     "elapsed": 21490,
     "status": "ok",
     "timestamp": 1611569245069,
     "user": {
      "displayName": "Pavel Chernyshev",
      "photoUrl": "https://lh3.googleusercontent.com/a-/AOh14Gg8b2PvQoRs3F7D-4-MP57OGpvq7v5wEpOY621fBQ=s64",
      "userId": "09623423000235365789"
     },
     "user_tz": -180
    },
    "id": "g7vwHIIa9ZGp",
    "outputId": "364fa2c0-618d-4579-ef6f-8ab34adf6ce0"
   },
   "outputs": [
    {
     "data": {
      "text/plain": [
       "Index(['word', 'orig_funny', 'count', 'mean', 'std', 'male_count', 'male_mean',\n",
       "       'male_std', 'female_count', 'female_mean', 'female_std',\n",
       "       'youngly_count', 'youngly_mean', 'youngly_std', 'elderly_count',\n",
       "       'elderly_mean', 'elderly_std'],\n",
       "      dtype='object')"
      ]
     },
     "execution_count": 16,
     "metadata": {},
     "output_type": "execute_result"
    }
   ],
   "source": [
    "df.columns"
   ]
  },
  {
   "cell_type": "code",
   "execution_count": 17,
   "metadata": {
    "executionInfo": {
     "elapsed": 21393,
     "status": "ok",
     "timestamp": 1611569245069,
     "user": {
      "displayName": "Pavel Chernyshev",
      "photoUrl": "https://lh3.googleusercontent.com/a-/AOh14Gg8b2PvQoRs3F7D-4-MP57OGpvq7v5wEpOY621fBQ=s64",
      "userId": "09623423000235365789"
     },
     "user_tz": -180
    },
    "id": "1oChQkkE9ZGp"
   },
   "outputs": [],
   "source": [
    "df.drop(columns=['male_count','male_mean', 'male_std', \n",
    "                 'female_count', 'female_mean', 'female_std',\n",
    "                 'youngly_count', 'youngly_mean', 'youngly_std', \n",
    "                 'elderly_count','elderly_mean', 'elderly_std'], inplace=True)"
   ]
  },
  {
   "cell_type": "markdown",
   "metadata": {
    "id": "M7X7lm959ZGq"
   },
   "source": [
    "#### Mean ratings"
   ]
  },
  {
   "cell_type": "code",
   "execution_count": 18,
   "metadata": {
    "colab": {
     "base_uri": "https://localhost:8080/",
     "height": 461
    },
    "executionInfo": {
     "elapsed": 21207,
     "status": "ok",
     "timestamp": 1611569245070,
     "user": {
      "displayName": "Pavel Chernyshev",
      "photoUrl": "https://lh3.googleusercontent.com/a-/AOh14Gg8b2PvQoRs3F7D-4-MP57OGpvq7v5wEpOY621fBQ=s64",
      "userId": "09623423000235365789"
     },
     "user_tz": -180
    },
    "id": "3YSvQlnZ9ZGq",
    "outputId": "f9db3b33-16af-422d-db03-d0d2d8729933"
   },
   "outputs": [
    {
     "data": {
      "text/plain": [
       "Text(0.5, 1.0, 'Ratings hist')"
      ]
     },
     "execution_count": 18,
     "metadata": {},
     "output_type": "execute_result"
    },
    {
     "data": {
      "image/png": "[encoded data removed]",
      "text/plain": [
       "<Figure size 1080x504 with 2 Axes>"
      ]
     },
     "metadata": {
      "needs_background": "light"
     },
     "output_type": "display_data"
    }
   ],
   "source": [
    "fig, ax = plt.subplots(nrows=2,figsize=(15,7))\n",
    "\n",
    "ax[1].hist(df['mean'], bins=50, color='#e38c00', rwidth=0.9)\n",
    "ax[1].set_title('Ratings hist zoomed')\n",
    "ax[1].set_ylim(0,100)\n",
    "\n",
    "ax[0].hist(df['mean'], bins=50, color='#e38c00', rwidth=0.9)\n",
    "ax[0].set_title('Ratings hist')\n",
    "\n",
    "#Шаг в 0.02"
   ]
  },
  {
   "cell_type": "markdown",
   "metadata": {
    "id": "nxsGsK3l9ZGq"
   },
   "source": [
    "Очень много отмечено несмешными (ура!). В остальном довольно интересное распределение.\n",
    "\n",
    "Можно посмотреть, как размеченные смешные соотносятся с изначальными смешными"
   ]
  },
  {
   "cell_type": "code",
   "execution_count": 19,
   "metadata": {
    "colab": {
     "base_uri": "https://localhost:8080/",
     "height": 353
    },
    "executionInfo": {
     "elapsed": 21854,
     "status": "ok",
     "timestamp": 1611569245891,
     "user": {
      "displayName": "Pavel Chernyshev",
      "photoUrl": "https://lh3.googleusercontent.com/a-/AOh14Gg8b2PvQoRs3F7D-4-MP57OGpvq7v5wEpOY621fBQ=s64",
      "userId": "09623423000235365789"
     },
     "user_tz": -180
    },
    "id": "eUCddmh29ZGr",
    "outputId": "86d986b2-6c91-4711-910b-b99122d490e1"
   },
   "outputs": [
    {
     "data": {
      "text/plain": [
       "Text(0.5, 1.0, 'Mean hist on log')"
      ]
     },
     "execution_count": 19,
     "metadata": {},
     "output_type": "execute_result"
    },
    {
     "data": {
      "image/png": "[encoded data removed]",
      "text/plain": [
       "<Figure size 1080x360 with 1 Axes>"
      ]
     },
     "metadata": {
      "needs_background": "light"
     },
     "output_type": "display_data"
    }
   ],
   "source": [
    "fig, ax = plt.subplots(figsize=(15,5))\n",
    "ax.hist(only_f['mean'], bins=50, color=fcolor, log=True, align='right', rwidth=0.6)\n",
    "ax.hist(only_u['mean'], bins=50, color=ucolor, log=True, align='left', rwidth=0.6)\n",
    "ax.legend(['orig funny', 'orig unfunny'])\n",
    "ax.set_title('Mean hist on log')"
   ]
  },
  {
   "cell_type": "markdown",
   "metadata": {
    "id": "qTZ1-T9_9ZGr"
   },
   "source": [
    "### Определяем порог"
   ]
  },
  {
   "cell_type": "code",
   "execution_count": 20,
   "metadata": {
    "executionInfo": {
     "elapsed": 21715,
     "status": "ok",
     "timestamp": 1611569245891,
     "user": {
      "displayName": "Pavel Chernyshev",
      "photoUrl": "https://lh3.googleusercontent.com/a-/AOh14Gg8b2PvQoRs3F7D-4-MP57OGpvq7v5wEpOY621fBQ=s64",
      "userId": "09623423000235365789"
     },
     "user_tz": -180
    },
    "id": "_CLSGt5l9ZGr"
   },
   "outputs": [],
   "source": [
    "def mark_treshold(mean_rate, tres):\n",
    "    if mean_rate <= tres:\n",
    "        return 0\n",
    "    else:\n",
    "        return 1"
   ]
  },
  {
   "cell_type": "code",
   "execution_count": 21,
   "metadata": {
    "executionInfo": {
     "elapsed": 21657,
     "status": "ok",
     "timestamp": 1611569245892,
     "user": {
      "displayName": "Pavel Chernyshev",
      "photoUrl": "https://lh3.googleusercontent.com/a-/AOh14Gg8b2PvQoRs3F7D-4-MP57OGpvq7v5wEpOY621fBQ=s64",
      "userId": "09623423000235365789"
     },
     "user_tz": -180
    },
    "id": "oKbxNLMU9ZGr"
   },
   "outputs": [],
   "source": [
    "def define_treshold(tres, ret=False, mark=False):\n",
    "    fun = df[df['mean'] > tres]\n",
    "    unfun = df[df['mean'] <= tres]\n",
    "    \n",
    "    if ret is True:\n",
    "        return fun, unfun\n",
    "    \n",
    "    else:\n",
    "        fun = float(df[df['mean'] > tres].shape[0])\n",
    "        unfun = float(df[df['mean'] <= tres].shape[0])\n",
    "        perc = (fun+unfun)/100\n",
    "        \n",
    "        print('For theshold', tres, ':')\n",
    "        print('Percentage = ', \"{:.2f}\".format(fun / perc), 'fun vs', \"{:.2f}\".format(unfun / perc), 'unfun')\n",
    "        print('Number = ', fun, 'fun vs', unfun, 'unfun')\n",
    "        \n",
    "    if mark is True:\n",
    "        df['target'] = [mark_treshold(row, tres) for row in df['mean']]"
   ]
  },
  {
   "cell_type": "markdown",
   "metadata": {
    "id": "cS7y553v9ZGr"
   },
   "source": [
    "Сделаем порог в 0.5. Во-первых это логично, во-вторых меньше – нереально."
   ]
  },
  {
   "cell_type": "code",
   "execution_count": 22,
   "metadata": {
    "executionInfo": {
     "elapsed": 21483,
     "status": "ok",
     "timestamp": 1611569245892,
     "user": {
      "displayName": "Pavel Chernyshev",
      "photoUrl": "https://lh3.googleusercontent.com/a-/AOh14Gg8b2PvQoRs3F7D-4-MP57OGpvq7v5wEpOY621fBQ=s64",
      "userId": "09623423000235365789"
     },
     "user_tz": -180
    },
    "id": "g7dpLc5i9ZGs"
   },
   "outputs": [],
   "source": [
    "res_f, res_u = define_treshold(0.5, ret=True)"
   ]
  },
  {
   "cell_type": "code",
   "execution_count": 23,
   "metadata": {
    "colab": {
     "base_uri": "https://localhost:8080/"
    },
    "executionInfo": {
     "elapsed": 21356,
     "status": "ok",
     "timestamp": 1611569245911,
     "user": {
      "displayName": "Pavel Chernyshev",
      "photoUrl": "https://lh3.googleusercontent.com/a-/AOh14Gg8b2PvQoRs3F7D-4-MP57OGpvq7v5wEpOY621fBQ=s64",
      "userId": "09623423000235365789"
     },
     "user_tz": -180
    },
    "id": "YH1DSS_L9ZGs",
    "outputId": "63843f70-4036-46cc-8802-46f28eccb952"
   },
   "outputs": [
    {
     "name": "stdout",
     "output_type": "stream",
     "text": [
      "For theshold 0.5 :\n",
      "Percentage =  8.98 fun vs 91.02 unfun\n",
      "Number =  202.0 fun vs 2048.0 unfun\n"
     ]
    }
   ],
   "source": [
    "define_treshold(0.5, mark=True)"
   ]
  },
  {
   "cell_type": "markdown",
   "metadata": {
    "id": "lJ2kYP0i9ZGt"
   },
   "source": [
    "### Std \n",
    "В данном случае std можно прочитывать как спорность слова: чем больше разброс, тем более горячий спор о том, смешное ли слово."
   ]
  },
  {
   "cell_type": "code",
   "execution_count": 24,
   "metadata": {
    "colab": {
     "base_uri": "https://localhost:8080/",
     "height": 624
    },
    "executionInfo": {
     "elapsed": 23181,
     "status": "ok",
     "timestamp": 1611569247998,
     "user": {
      "displayName": "Pavel Chernyshev",
      "photoUrl": "https://lh3.googleusercontent.com/a-/AOh14Gg8b2PvQoRs3F7D-4-MP57OGpvq7v5wEpOY621fBQ=s64",
      "userId": "09623423000235365789"
     },
     "user_tz": -180
    },
    "id": "BvhLJHDr9ZGt",
    "outputId": "8e1ce464-1880-42f7-d733-a9fbfa47f7a7"
   },
   "outputs": [
    {
     "data": {
      "text/plain": [
       "Text(0.5, 1.0, 'STD resulting funny (hist on log)')"
      ]
     },
     "execution_count": 24,
     "metadata": {},
     "output_type": "execute_result"
    },
    {
     "data": {
      "image/png": "[encoded data removed]",
      "text/plain": [
       "<Figure size 1080x720 with 2 Axes>"
      ]
     },
     "metadata": {
      "needs_background": "light"
     },
     "output_type": "display_data"
    }
   ],
   "source": [
    "fig, ax = plt.subplots(nrows=2, figsize=(15,10))\n",
    "ax[0].hist(only_f['std'], bins=50, color=fcolor, log=True, align='right', rwidth=0.4)\n",
    "ax[0].hist(only_u['mean'], bins=50, color=ucolor, log=True, align='left', rwidth=0.4)\n",
    "ax[0].legend(['orig funny', 'orig unfunny'])\n",
    "ax[0].set_title('STD originally funny (hist on log)')\n",
    "\n",
    "ax[1].hist(res_f['std'], bins=50, color=ucolor, log=True, align='right', rwidth=0.4)\n",
    "ax[1].hist(res_u['mean'], bins=50, color=fcolor, log=True, align='left', rwidth=0.4)\n",
    "ax[1].legend(['res funny', 'res unfunny'])\n",
    "ax[1].set_title('STD resulting funny (hist on log)')"
   ]
  },
  {
   "cell_type": "markdown",
   "metadata": {
    "id": "34DrkACd9ZGt"
   },
   "source": [
    "Интресно, что наиболее спорные – изначально смешные. Спорность несмешных последовательно падает."
   ]
  },
  {
   "cell_type": "markdown",
   "metadata": {
    "id": "GL0-vXbV9ZGs"
   },
   "source": [
    "# ВОТ, ЧТО ТАКОЕ СМЕШНЫЕ СЛОВА!"
   ]
  },
  {
   "cell_type": "code",
   "execution_count": 25,
   "metadata": {
    "colab": {
     "base_uri": "https://localhost:8080/",
     "height": 1000
    },
    "executionInfo": {
     "elapsed": 22929,
     "status": "ok",
     "timestamp": 1611569248002,
     "user": {
      "displayName": "Pavel Chernyshev",
      "photoUrl": "https://lh3.googleusercontent.com/a-/AOh14Gg8b2PvQoRs3F7D-4-MP57OGpvq7v5wEpOY621fBQ=s64",
      "userId": "09623423000235365789"
     },
     "user_tz": -180
    },
    "id": "thY7tHjD9ZGs",
    "outputId": "6fdb3f9f-d79b-49b9-9f0a-c5ac3774c958"
   },
   "outputs": [
    {
     "data": {
      "text/html": [
       "<div>\n",
       "<style scoped>\n",
       "    .dataframe tbody tr th:only-of-type {\n",
       "        vertical-align: middle;\n",
       "    }\n",
       "\n",
       "    .dataframe tbody tr th {\n",
       "        vertical-align: top;\n",
       "    }\n",
       "\n",
       "    .dataframe thead th {\n",
       "        text-align: right;\n",
       "    }\n",
       "</style>\n",
       "<table border=\"1\" class=\"dataframe\">\n",
       "  <thead>\n",
       "    <tr style=\"text-align: right;\">\n",
       "      <th></th>\n",
       "      <th>word</th>\n",
       "      <th>orig_funny</th>\n",
       "      <th>count</th>\n",
       "      <th>mean</th>\n",
       "      <th>std</th>\n",
       "    </tr>\n",
       "  </thead>\n",
       "  <tbody>\n",
       "    <tr>\n",
       "      <th>2236</th>\n",
       "      <td>эчпочмак</td>\n",
       "      <td>1</td>\n",
       "      <td>14.0</td>\n",
       "      <td>1.000000</td>\n",
       "      <td>0.000000</td>\n",
       "    </tr>\n",
       "    <tr>\n",
       "      <th>2082</th>\n",
       "      <td>фунфырик</td>\n",
       "      <td>1</td>\n",
       "      <td>13.0</td>\n",
       "      <td>1.000000</td>\n",
       "      <td>0.000000</td>\n",
       "    </tr>\n",
       "    <tr>\n",
       "      <th>618</th>\n",
       "      <td>кандибобер</td>\n",
       "      <td>1</td>\n",
       "      <td>17.0</td>\n",
       "      <td>1.000000</td>\n",
       "      <td>0.000000</td>\n",
       "    </tr>\n",
       "    <tr>\n",
       "      <th>118</th>\n",
       "      <td>бубылда</td>\n",
       "      <td>1</td>\n",
       "      <td>14.0</td>\n",
       "      <td>1.000000</td>\n",
       "      <td>0.000000</td>\n",
       "    </tr>\n",
       "    <tr>\n",
       "      <th>450</th>\n",
       "      <td>жабик</td>\n",
       "      <td>1</td>\n",
       "      <td>13.0</td>\n",
       "      <td>1.000000</td>\n",
       "      <td>0.000000</td>\n",
       "    </tr>\n",
       "    <tr>\n",
       "      <th>423</th>\n",
       "      <td>дудонить</td>\n",
       "      <td>1</td>\n",
       "      <td>21.0</td>\n",
       "      <td>0.952381</td>\n",
       "      <td>0.218218</td>\n",
       "    </tr>\n",
       "    <tr>\n",
       "      <th>2159</th>\n",
       "      <td>чилипиздрик</td>\n",
       "      <td>1</td>\n",
       "      <td>21.0</td>\n",
       "      <td>0.952381</td>\n",
       "      <td>0.218218</td>\n",
       "    </tr>\n",
       "    <tr>\n",
       "      <th>1556</th>\n",
       "      <td>пуцка</td>\n",
       "      <td>1</td>\n",
       "      <td>14.0</td>\n",
       "      <td>0.928571</td>\n",
       "      <td>0.267261</td>\n",
       "    </tr>\n",
       "    <tr>\n",
       "      <th>738</th>\n",
       "      <td>кошонята</td>\n",
       "      <td>1</td>\n",
       "      <td>14.0</td>\n",
       "      <td>0.928571</td>\n",
       "      <td>0.267261</td>\n",
       "    </tr>\n",
       "    <tr>\n",
       "      <th>1235</th>\n",
       "      <td>пек-пек-пек</td>\n",
       "      <td>1</td>\n",
       "      <td>12.0</td>\n",
       "      <td>0.916667</td>\n",
       "      <td>0.288675</td>\n",
       "    </tr>\n",
       "    <tr>\n",
       "      <th>2209</th>\n",
       "      <td>шуршулькинс</td>\n",
       "      <td>1</td>\n",
       "      <td>17.0</td>\n",
       "      <td>0.882353</td>\n",
       "      <td>0.332106</td>\n",
       "    </tr>\n",
       "    <tr>\n",
       "      <th>470</th>\n",
       "      <td>жопик</td>\n",
       "      <td>1</td>\n",
       "      <td>17.0</td>\n",
       "      <td>0.882353</td>\n",
       "      <td>0.332106</td>\n",
       "    </tr>\n",
       "    <tr>\n",
       "      <th>1546</th>\n",
       "      <td>пупа</td>\n",
       "      <td>1</td>\n",
       "      <td>17.0</td>\n",
       "      <td>0.882353</td>\n",
       "      <td>0.332106</td>\n",
       "    </tr>\n",
       "    <tr>\n",
       "      <th>1363</th>\n",
       "      <td>попандопало</td>\n",
       "      <td>1</td>\n",
       "      <td>8.0</td>\n",
       "      <td>0.875000</td>\n",
       "      <td>0.353553</td>\n",
       "    </tr>\n",
       "    <tr>\n",
       "      <th>1222</th>\n",
       "      <td>парисосиса</td>\n",
       "      <td>1</td>\n",
       "      <td>16.0</td>\n",
       "      <td>0.875000</td>\n",
       "      <td>0.341565</td>\n",
       "    </tr>\n",
       "    <tr>\n",
       "      <th>63</th>\n",
       "      <td>барабуля</td>\n",
       "      <td>1</td>\n",
       "      <td>8.0</td>\n",
       "      <td>0.875000</td>\n",
       "      <td>0.353553</td>\n",
       "    </tr>\n",
       "    <tr>\n",
       "      <th>1068</th>\n",
       "      <td>обалдуйка</td>\n",
       "      <td>1</td>\n",
       "      <td>15.0</td>\n",
       "      <td>0.866667</td>\n",
       "      <td>0.351866</td>\n",
       "    </tr>\n",
       "    <tr>\n",
       "      <th>1013</th>\n",
       "      <td>недотыкомка</td>\n",
       "      <td>1</td>\n",
       "      <td>15.0</td>\n",
       "      <td>0.866667</td>\n",
       "      <td>0.351866</td>\n",
       "    </tr>\n",
       "    <tr>\n",
       "      <th>1716</th>\n",
       "      <td>сисязавр</td>\n",
       "      <td>1</td>\n",
       "      <td>21.0</td>\n",
       "      <td>0.857143</td>\n",
       "      <td>0.358569</td>\n",
       "    </tr>\n",
       "    <tr>\n",
       "      <th>1270</th>\n",
       "      <td>пипа</td>\n",
       "      <td>1</td>\n",
       "      <td>14.0</td>\n",
       "      <td>0.857143</td>\n",
       "      <td>0.363137</td>\n",
       "    </tr>\n",
       "    <tr>\n",
       "      <th>1229</th>\n",
       "      <td>пафнутий</td>\n",
       "      <td>1</td>\n",
       "      <td>21.0</td>\n",
       "      <td>0.857143</td>\n",
       "      <td>0.358569</td>\n",
       "    </tr>\n",
       "    <tr>\n",
       "      <th>417</th>\n",
       "      <td>драндулет</td>\n",
       "      <td>1</td>\n",
       "      <td>12.0</td>\n",
       "      <td>0.833333</td>\n",
       "      <td>0.389249</td>\n",
       "    </tr>\n",
       "    <tr>\n",
       "      <th>862</th>\n",
       "      <td>мармышка</td>\n",
       "      <td>1</td>\n",
       "      <td>17.0</td>\n",
       "      <td>0.823529</td>\n",
       "      <td>0.392953</td>\n",
       "    </tr>\n",
       "    <tr>\n",
       "      <th>67</th>\n",
       "      <td>бдзёлка</td>\n",
       "      <td>1</td>\n",
       "      <td>28.0</td>\n",
       "      <td>0.821429</td>\n",
       "      <td>0.390021</td>\n",
       "    </tr>\n",
       "    <tr>\n",
       "      <th>476</th>\n",
       "      <td>жупел</td>\n",
       "      <td>1</td>\n",
       "      <td>11.0</td>\n",
       "      <td>0.818182</td>\n",
       "      <td>0.404520</td>\n",
       "    </tr>\n",
       "    <tr>\n",
       "      <th>2188</th>\n",
       "      <td>шебуршуля</td>\n",
       "      <td>1</td>\n",
       "      <td>16.0</td>\n",
       "      <td>0.812500</td>\n",
       "      <td>0.403113</td>\n",
       "    </tr>\n",
       "    <tr>\n",
       "      <th>1243</th>\n",
       "      <td>пердимонокль</td>\n",
       "      <td>1</td>\n",
       "      <td>15.0</td>\n",
       "      <td>0.800000</td>\n",
       "      <td>0.414039</td>\n",
       "    </tr>\n",
       "    <tr>\n",
       "      <th>2161</th>\n",
       "      <td>чирибикнуть</td>\n",
       "      <td>1</td>\n",
       "      <td>10.0</td>\n",
       "      <td>0.800000</td>\n",
       "      <td>0.421637</td>\n",
       "    </tr>\n",
       "    <tr>\n",
       "      <th>2211</th>\n",
       "      <td>шушпанчик</td>\n",
       "      <td>1</td>\n",
       "      <td>20.0</td>\n",
       "      <td>0.800000</td>\n",
       "      <td>0.410391</td>\n",
       "    </tr>\n",
       "    <tr>\n",
       "      <th>490</th>\n",
       "      <td>зазуля</td>\n",
       "      <td>1</td>\n",
       "      <td>20.0</td>\n",
       "      <td>0.800000</td>\n",
       "      <td>0.410391</td>\n",
       "    </tr>\n",
       "    <tr>\n",
       "      <th>489</th>\n",
       "      <td>зазауля</td>\n",
       "      <td>1</td>\n",
       "      <td>15.0</td>\n",
       "      <td>0.800000</td>\n",
       "      <td>0.414039</td>\n",
       "    </tr>\n",
       "    <tr>\n",
       "      <th>2147</th>\n",
       "      <td>черемякать</td>\n",
       "      <td>1</td>\n",
       "      <td>14.0</td>\n",
       "      <td>0.785714</td>\n",
       "      <td>0.425815</td>\n",
       "    </tr>\n",
       "    <tr>\n",
       "      <th>1815</th>\n",
       "      <td>сподвыподвертом</td>\n",
       "      <td>1</td>\n",
       "      <td>28.0</td>\n",
       "      <td>0.785714</td>\n",
       "      <td>0.417855</td>\n",
       "    </tr>\n",
       "    <tr>\n",
       "      <th>2108</th>\n",
       "      <td>хохотач</td>\n",
       "      <td>1</td>\n",
       "      <td>14.0</td>\n",
       "      <td>0.785714</td>\n",
       "      <td>0.425815</td>\n",
       "    </tr>\n",
       "    <tr>\n",
       "      <th>785</th>\n",
       "      <td>куркуминоид</td>\n",
       "      <td>1</td>\n",
       "      <td>14.0</td>\n",
       "      <td>0.785714</td>\n",
       "      <td>0.425815</td>\n",
       "    </tr>\n",
       "    <tr>\n",
       "      <th>2142</th>\n",
       "      <td>чеполохнуть</td>\n",
       "      <td>1</td>\n",
       "      <td>14.0</td>\n",
       "      <td>0.785714</td>\n",
       "      <td>0.425815</td>\n",
       "    </tr>\n",
       "    <tr>\n",
       "      <th>447</th>\n",
       "      <td>епстудэй</td>\n",
       "      <td>1</td>\n",
       "      <td>14.0</td>\n",
       "      <td>0.785714</td>\n",
       "      <td>0.425815</td>\n",
       "    </tr>\n",
       "    <tr>\n",
       "      <th>2208</th>\n",
       "      <td>шуршулька</td>\n",
       "      <td>1</td>\n",
       "      <td>14.0</td>\n",
       "      <td>0.785714</td>\n",
       "      <td>0.425815</td>\n",
       "    </tr>\n",
       "    <tr>\n",
       "      <th>602</th>\n",
       "      <td>кабачок</td>\n",
       "      <td>1</td>\n",
       "      <td>14.0</td>\n",
       "      <td>0.785714</td>\n",
       "      <td>0.425815</td>\n",
       "    </tr>\n",
       "    <tr>\n",
       "      <th>642</th>\n",
       "      <td>качуча</td>\n",
       "      <td>1</td>\n",
       "      <td>14.0</td>\n",
       "      <td>0.785714</td>\n",
       "      <td>0.425815</td>\n",
       "    </tr>\n",
       "    <tr>\n",
       "      <th>1263</th>\n",
       "      <td>пестун</td>\n",
       "      <td>1</td>\n",
       "      <td>14.0</td>\n",
       "      <td>0.785714</td>\n",
       "      <td>0.425815</td>\n",
       "    </tr>\n",
       "    <tr>\n",
       "      <th>775</th>\n",
       "      <td>кукух</td>\n",
       "      <td>1</td>\n",
       "      <td>27.0</td>\n",
       "      <td>0.777778</td>\n",
       "      <td>0.423659</td>\n",
       "    </tr>\n",
       "    <tr>\n",
       "      <th>2113</th>\n",
       "      <td>хрюндель</td>\n",
       "      <td>1</td>\n",
       "      <td>27.0</td>\n",
       "      <td>0.777778</td>\n",
       "      <td>0.423659</td>\n",
       "    </tr>\n",
       "    <tr>\n",
       "      <th>2138</th>\n",
       "      <td>чевапчичи</td>\n",
       "      <td>1</td>\n",
       "      <td>18.0</td>\n",
       "      <td>0.777778</td>\n",
       "      <td>0.427793</td>\n",
       "    </tr>\n",
       "    <tr>\n",
       "      <th>2158</th>\n",
       "      <td>чикибряк</td>\n",
       "      <td>1</td>\n",
       "      <td>22.0</td>\n",
       "      <td>0.772727</td>\n",
       "      <td>0.428932</td>\n",
       "    </tr>\n",
       "    <tr>\n",
       "      <th>774</th>\n",
       "      <td>кукусик</td>\n",
       "      <td>1</td>\n",
       "      <td>13.0</td>\n",
       "      <td>0.769231</td>\n",
       "      <td>0.438529</td>\n",
       "    </tr>\n",
       "    <tr>\n",
       "      <th>436</th>\n",
       "      <td>ебака</td>\n",
       "      <td>1</td>\n",
       "      <td>17.0</td>\n",
       "      <td>0.764706</td>\n",
       "      <td>0.437237</td>\n",
       "    </tr>\n",
       "    <tr>\n",
       "      <th>453</th>\n",
       "      <td>жбан</td>\n",
       "      <td>1</td>\n",
       "      <td>21.0</td>\n",
       "      <td>0.761905</td>\n",
       "      <td>0.436436</td>\n",
       "    </tr>\n",
       "    <tr>\n",
       "      <th>2112</th>\n",
       "      <td>хрыч</td>\n",
       "      <td>1</td>\n",
       "      <td>8.0</td>\n",
       "      <td>0.750000</td>\n",
       "      <td>0.462910</td>\n",
       "    </tr>\n",
       "    <tr>\n",
       "      <th>743</th>\n",
       "      <td>краковяк</td>\n",
       "      <td>1</td>\n",
       "      <td>12.0</td>\n",
       "      <td>0.750000</td>\n",
       "      <td>0.452267</td>\n",
       "    </tr>\n",
       "    <tr>\n",
       "      <th>697</th>\n",
       "      <td>колыбаха</td>\n",
       "      <td>1</td>\n",
       "      <td>16.0</td>\n",
       "      <td>0.750000</td>\n",
       "      <td>0.447214</td>\n",
       "    </tr>\n",
       "    <tr>\n",
       "      <th>1869</th>\n",
       "      <td>сукалень</td>\n",
       "      <td>1</td>\n",
       "      <td>16.0</td>\n",
       "      <td>0.750000</td>\n",
       "      <td>0.447214</td>\n",
       "    </tr>\n",
       "    <tr>\n",
       "      <th>2212</th>\n",
       "      <td>шушутаж</td>\n",
       "      <td>1</td>\n",
       "      <td>8.0</td>\n",
       "      <td>0.750000</td>\n",
       "      <td>0.462910</td>\n",
       "    </tr>\n",
       "    <tr>\n",
       "      <th>2045</th>\n",
       "      <td>ухохочешься</td>\n",
       "      <td>1</td>\n",
       "      <td>8.0</td>\n",
       "      <td>0.750000</td>\n",
       "      <td>0.462910</td>\n",
       "    </tr>\n",
       "    <tr>\n",
       "      <th>239</th>\n",
       "      <td>вша</td>\n",
       "      <td>1</td>\n",
       "      <td>20.0</td>\n",
       "      <td>0.750000</td>\n",
       "      <td>0.444262</td>\n",
       "    </tr>\n",
       "    <tr>\n",
       "      <th>232</th>\n",
       "      <td>всратыш</td>\n",
       "      <td>1</td>\n",
       "      <td>16.0</td>\n",
       "      <td>0.750000</td>\n",
       "      <td>0.447214</td>\n",
       "    </tr>\n",
       "    <tr>\n",
       "      <th>790</th>\n",
       "      <td>курыч</td>\n",
       "      <td>1</td>\n",
       "      <td>27.0</td>\n",
       "      <td>0.740741</td>\n",
       "      <td>0.446576</td>\n",
       "    </tr>\n",
       "    <tr>\n",
       "      <th>1794</th>\n",
       "      <td>сосиська</td>\n",
       "      <td>1</td>\n",
       "      <td>23.0</td>\n",
       "      <td>0.739130</td>\n",
       "      <td>0.448978</td>\n",
       "    </tr>\n",
       "    <tr>\n",
       "      <th>62</th>\n",
       "      <td>барабулька</td>\n",
       "      <td>1</td>\n",
       "      <td>15.0</td>\n",
       "      <td>0.733333</td>\n",
       "      <td>0.457738</td>\n",
       "    </tr>\n",
       "    <tr>\n",
       "      <th>1269</th>\n",
       "      <td>пивот</td>\n",
       "      <td>1</td>\n",
       "      <td>11.0</td>\n",
       "      <td>0.727273</td>\n",
       "      <td>0.467099</td>\n",
       "    </tr>\n",
       "    <tr>\n",
       "      <th>506</th>\n",
       "      <td>замятыш</td>\n",
       "      <td>1</td>\n",
       "      <td>18.0</td>\n",
       "      <td>0.722222</td>\n",
       "      <td>0.460889</td>\n",
       "    </tr>\n",
       "    <tr>\n",
       "      <th>462</th>\n",
       "      <td>жижа</td>\n",
       "      <td>1</td>\n",
       "      <td>18.0</td>\n",
       "      <td>0.722222</td>\n",
       "      <td>0.460889</td>\n",
       "    </tr>\n",
       "    <tr>\n",
       "      <th>2171</th>\n",
       "      <td>чувылдра</td>\n",
       "      <td>1</td>\n",
       "      <td>14.0</td>\n",
       "      <td>0.714286</td>\n",
       "      <td>0.468807</td>\n",
       "    </tr>\n",
       "    <tr>\n",
       "      <th>1796</th>\n",
       "      <td>сосняк</td>\n",
       "      <td>1</td>\n",
       "      <td>21.0</td>\n",
       "      <td>0.714286</td>\n",
       "      <td>0.462910</td>\n",
       "    </tr>\n",
       "    <tr>\n",
       "      <th>685</th>\n",
       "      <td>коклетки</td>\n",
       "      <td>1</td>\n",
       "      <td>21.0</td>\n",
       "      <td>0.714286</td>\n",
       "      <td>0.462910</td>\n",
       "    </tr>\n",
       "    <tr>\n",
       "      <th>1262</th>\n",
       "      <td>пескоструйка</td>\n",
       "      <td>1</td>\n",
       "      <td>21.0</td>\n",
       "      <td>0.714286</td>\n",
       "      <td>0.462910</td>\n",
       "    </tr>\n",
       "    <tr>\n",
       "      <th>792</th>\n",
       "      <td>кутешата</td>\n",
       "      <td>1</td>\n",
       "      <td>21.0</td>\n",
       "      <td>0.714286</td>\n",
       "      <td>0.462910</td>\n",
       "    </tr>\n",
       "    <tr>\n",
       "      <th>473</th>\n",
       "      <td>жужелица</td>\n",
       "      <td>1</td>\n",
       "      <td>14.0</td>\n",
       "      <td>0.714286</td>\n",
       "      <td>0.468807</td>\n",
       "    </tr>\n",
       "    <tr>\n",
       "      <th>323</th>\n",
       "      <td>грязюка</td>\n",
       "      <td>1</td>\n",
       "      <td>14.0</td>\n",
       "      <td>0.714286</td>\n",
       "      <td>0.468807</td>\n",
       "    </tr>\n",
       "    <tr>\n",
       "      <th>424</th>\n",
       "      <td>дудыка</td>\n",
       "      <td>1</td>\n",
       "      <td>17.0</td>\n",
       "      <td>0.705882</td>\n",
       "      <td>0.469668</td>\n",
       "    </tr>\n",
       "    <tr>\n",
       "      <th>1236</th>\n",
       "      <td>пендель</td>\n",
       "      <td>1</td>\n",
       "      <td>17.0</td>\n",
       "      <td>0.705882</td>\n",
       "      <td>0.469668</td>\n",
       "    </tr>\n",
       "    <tr>\n",
       "      <th>112</th>\n",
       "      <td>бровья</td>\n",
       "      <td>1</td>\n",
       "      <td>17.0</td>\n",
       "      <td>0.705882</td>\n",
       "      <td>0.469668</td>\n",
       "    </tr>\n",
       "    <tr>\n",
       "      <th>222</th>\n",
       "      <td>впуклый</td>\n",
       "      <td>1</td>\n",
       "      <td>17.0</td>\n",
       "      <td>0.705882</td>\n",
       "      <td>0.469668</td>\n",
       "    </tr>\n",
       "    <tr>\n",
       "      <th>0</th>\n",
       "      <td>yевмененько</td>\n",
       "      <td>1</td>\n",
       "      <td>17.0</td>\n",
       "      <td>0.705882</td>\n",
       "      <td>0.469668</td>\n",
       "    </tr>\n",
       "    <tr>\n",
       "      <th>1901</th>\n",
       "      <td>танцули</td>\n",
       "      <td>1</td>\n",
       "      <td>17.0</td>\n",
       "      <td>0.705882</td>\n",
       "      <td>0.469668</td>\n",
       "    </tr>\n",
       "    <tr>\n",
       "      <th>2109</th>\n",
       "      <td>хренюшка</td>\n",
       "      <td>1</td>\n",
       "      <td>17.0</td>\n",
       "      <td>0.705882</td>\n",
       "      <td>0.469668</td>\n",
       "    </tr>\n",
       "    <tr>\n",
       "      <th>2194</th>\n",
       "      <td>шкварыга</td>\n",
       "      <td>1</td>\n",
       "      <td>17.0</td>\n",
       "      <td>0.705882</td>\n",
       "      <td>0.469668</td>\n",
       "    </tr>\n",
       "    <tr>\n",
       "      <th>644</th>\n",
       "      <td>квакушка</td>\n",
       "      <td>1</td>\n",
       "      <td>10.0</td>\n",
       "      <td>0.700000</td>\n",
       "      <td>0.483046</td>\n",
       "    </tr>\n",
       "    <tr>\n",
       "      <th>645</th>\n",
       "      <td>квакша</td>\n",
       "      <td>1</td>\n",
       "      <td>10.0</td>\n",
       "      <td>0.700000</td>\n",
       "      <td>0.483046</td>\n",
       "    </tr>\n",
       "    <tr>\n",
       "      <th>452</th>\n",
       "      <td>жамкать</td>\n",
       "      <td>1</td>\n",
       "      <td>10.0</td>\n",
       "      <td>0.700000</td>\n",
       "      <td>0.483046</td>\n",
       "    </tr>\n",
       "    <tr>\n",
       "      <th>2043</th>\n",
       "      <td>утя</td>\n",
       "      <td>1</td>\n",
       "      <td>10.0</td>\n",
       "      <td>0.700000</td>\n",
       "      <td>0.483046</td>\n",
       "    </tr>\n",
       "    <tr>\n",
       "      <th>1292</th>\n",
       "      <td>плюмбум</td>\n",
       "      <td>1</td>\n",
       "      <td>10.0</td>\n",
       "      <td>0.700000</td>\n",
       "      <td>0.483046</td>\n",
       "    </tr>\n",
       "    <tr>\n",
       "      <th>237</th>\n",
       "      <td>втулка</td>\n",
       "      <td>1</td>\n",
       "      <td>10.0</td>\n",
       "      <td>0.700000</td>\n",
       "      <td>0.483046</td>\n",
       "    </tr>\n",
       "    <tr>\n",
       "      <th>1294</th>\n",
       "      <td>плюха</td>\n",
       "      <td>1</td>\n",
       "      <td>20.0</td>\n",
       "      <td>0.700000</td>\n",
       "      <td>0.470162</td>\n",
       "    </tr>\n",
       "    <tr>\n",
       "      <th>803</th>\n",
       "      <td>лапульки</td>\n",
       "      <td>1</td>\n",
       "      <td>10.0</td>\n",
       "      <td>0.700000</td>\n",
       "      <td>0.483046</td>\n",
       "    </tr>\n",
       "    <tr>\n",
       "      <th>437</th>\n",
       "      <td>ебалай</td>\n",
       "      <td>1</td>\n",
       "      <td>10.0</td>\n",
       "      <td>0.700000</td>\n",
       "      <td>0.483046</td>\n",
       "    </tr>\n",
       "    <tr>\n",
       "      <th>329</th>\n",
       "      <td>гупёшка</td>\n",
       "      <td>1</td>\n",
       "      <td>10.0</td>\n",
       "      <td>0.700000</td>\n",
       "      <td>0.483046</td>\n",
       "    </tr>\n",
       "    <tr>\n",
       "      <th>2205</th>\n",
       "      <td>штукенция</td>\n",
       "      <td>1</td>\n",
       "      <td>10.0</td>\n",
       "      <td>0.700000</td>\n",
       "      <td>0.483046</td>\n",
       "    </tr>\n",
       "    <tr>\n",
       "      <th>828</th>\n",
       "      <td>лупка</td>\n",
       "      <td>1</td>\n",
       "      <td>23.0</td>\n",
       "      <td>0.695652</td>\n",
       "      <td>0.470472</td>\n",
       "    </tr>\n",
       "    <tr>\n",
       "      <th>2004</th>\n",
       "      <td>уконтропупиться</td>\n",
       "      <td>1</td>\n",
       "      <td>16.0</td>\n",
       "      <td>0.687500</td>\n",
       "      <td>0.478714</td>\n",
       "    </tr>\n",
       "    <tr>\n",
       "      <th>1496</th>\n",
       "      <td>проблядушки</td>\n",
       "      <td>1</td>\n",
       "      <td>16.0</td>\n",
       "      <td>0.687500</td>\n",
       "      <td>0.478714</td>\n",
       "    </tr>\n",
       "    <tr>\n",
       "      <th>467</th>\n",
       "      <td>жмякать</td>\n",
       "      <td>1</td>\n",
       "      <td>16.0</td>\n",
       "      <td>0.687500</td>\n",
       "      <td>0.478714</td>\n",
       "    </tr>\n",
       "    <tr>\n",
       "      <th>736</th>\n",
       "      <td>котёныш</td>\n",
       "      <td>1</td>\n",
       "      <td>16.0</td>\n",
       "      <td>0.687500</td>\n",
       "      <td>0.478714</td>\n",
       "    </tr>\n",
       "    <tr>\n",
       "      <th>468</th>\n",
       "      <td>жожоба</td>\n",
       "      <td>1</td>\n",
       "      <td>22.0</td>\n",
       "      <td>0.681818</td>\n",
       "      <td>0.476731</td>\n",
       "    </tr>\n",
       "    <tr>\n",
       "      <th>2090</th>\n",
       "      <td>хахаль</td>\n",
       "      <td>1</td>\n",
       "      <td>22.0</td>\n",
       "      <td>0.681818</td>\n",
       "      <td>0.476731</td>\n",
       "    </tr>\n",
       "    <tr>\n",
       "      <th>1356</th>\n",
       "      <td>понюшка</td>\n",
       "      <td>1</td>\n",
       "      <td>22.0</td>\n",
       "      <td>0.681818</td>\n",
       "      <td>0.476731</td>\n",
       "    </tr>\n",
       "    <tr>\n",
       "      <th>2003</th>\n",
       "      <td>уконтропупить</td>\n",
       "      <td>1</td>\n",
       "      <td>28.0</td>\n",
       "      <td>0.678571</td>\n",
       "      <td>0.475595</td>\n",
       "    </tr>\n",
       "    <tr>\n",
       "      <th>117</th>\n",
       "      <td>бубун</td>\n",
       "      <td>1</td>\n",
       "      <td>15.0</td>\n",
       "      <td>0.666667</td>\n",
       "      <td>0.487950</td>\n",
       "    </tr>\n",
       "    <tr>\n",
       "      <th>1278</th>\n",
       "      <td>пися</td>\n",
       "      <td>1</td>\n",
       "      <td>18.0</td>\n",
       "      <td>0.666667</td>\n",
       "      <td>0.485071</td>\n",
       "    </tr>\n",
       "    <tr>\n",
       "      <th>79</th>\n",
       "      <td>биба</td>\n",
       "      <td>1</td>\n",
       "      <td>18.0</td>\n",
       "      <td>0.666667</td>\n",
       "      <td>0.485071</td>\n",
       "    </tr>\n",
       "    <tr>\n",
       "      <th>2151</th>\n",
       "      <td>черномырдин</td>\n",
       "      <td>1</td>\n",
       "      <td>18.0</td>\n",
       "      <td>0.666667</td>\n",
       "      <td>0.485071</td>\n",
       "    </tr>\n",
       "    <tr>\n",
       "      <th>943</th>\n",
       "      <td>мыш</td>\n",
       "      <td>1</td>\n",
       "      <td>15.0</td>\n",
       "      <td>0.666667</td>\n",
       "      <td>0.487950</td>\n",
       "    </tr>\n",
       "    <tr>\n",
       "      <th>374</th>\n",
       "      <td>джемперок</td>\n",
       "      <td>1</td>\n",
       "      <td>12.0</td>\n",
       "      <td>0.666667</td>\n",
       "      <td>0.492366</td>\n",
       "    </tr>\n",
       "    <tr>\n",
       "      <th>1397</th>\n",
       "      <td>посюсторонее</td>\n",
       "      <td>1</td>\n",
       "      <td>18.0</td>\n",
       "      <td>0.666667</td>\n",
       "      <td>0.485071</td>\n",
       "    </tr>\n",
       "    <tr>\n",
       "      <th>1936</th>\n",
       "      <td>тошниловка</td>\n",
       "      <td>1</td>\n",
       "      <td>15.0</td>\n",
       "      <td>0.666667</td>\n",
       "      <td>0.487950</td>\n",
       "    </tr>\n",
       "    <tr>\n",
       "      <th>2115</th>\n",
       "      <td>хуек</td>\n",
       "      <td>1</td>\n",
       "      <td>21.0</td>\n",
       "      <td>0.666667</td>\n",
       "      <td>0.483046</td>\n",
       "    </tr>\n",
       "    <tr>\n",
       "      <th>547</th>\n",
       "      <td>зозуля</td>\n",
       "      <td>1</td>\n",
       "      <td>15.0</td>\n",
       "      <td>0.666667</td>\n",
       "      <td>0.487950</td>\n",
       "    </tr>\n",
       "    <tr>\n",
       "      <th>2202</th>\n",
       "      <td>штанишки</td>\n",
       "      <td>1</td>\n",
       "      <td>18.0</td>\n",
       "      <td>0.666667</td>\n",
       "      <td>0.485071</td>\n",
       "    </tr>\n",
       "    <tr>\n",
       "      <th>1977</th>\n",
       "      <td>тяпать</td>\n",
       "      <td>1</td>\n",
       "      <td>15.0</td>\n",
       "      <td>0.666667</td>\n",
       "      <td>0.487950</td>\n",
       "    </tr>\n",
       "    <tr>\n",
       "      <th>88</th>\n",
       "      <td>блеба</td>\n",
       "      <td>1</td>\n",
       "      <td>20.0</td>\n",
       "      <td>0.650000</td>\n",
       "      <td>0.489360</td>\n",
       "    </tr>\n",
       "    <tr>\n",
       "      <th>2026</th>\n",
       "      <td>упыр</td>\n",
       "      <td>1</td>\n",
       "      <td>17.0</td>\n",
       "      <td>0.647059</td>\n",
       "      <td>0.492592</td>\n",
       "    </tr>\n",
       "    <tr>\n",
       "      <th>2128</th>\n",
       "      <td>цуцик</td>\n",
       "      <td>1</td>\n",
       "      <td>17.0</td>\n",
       "      <td>0.647059</td>\n",
       "      <td>0.492592</td>\n",
       "    </tr>\n",
       "    <tr>\n",
       "      <th>1558</th>\n",
       "      <td>пчёльник</td>\n",
       "      <td>1</td>\n",
       "      <td>17.0</td>\n",
       "      <td>0.647059</td>\n",
       "      <td>0.492592</td>\n",
       "    </tr>\n",
       "    <tr>\n",
       "      <th>2067</th>\n",
       "      <td>флексикокинг</td>\n",
       "      <td>1</td>\n",
       "      <td>17.0</td>\n",
       "      <td>0.647059</td>\n",
       "      <td>0.492592</td>\n",
       "    </tr>\n",
       "    <tr>\n",
       "      <th>857</th>\n",
       "      <td>маньшипошки</td>\n",
       "      <td>1</td>\n",
       "      <td>17.0</td>\n",
       "      <td>0.647059</td>\n",
       "      <td>0.492592</td>\n",
       "    </tr>\n",
       "    <tr>\n",
       "      <th>610</th>\n",
       "      <td>какуля</td>\n",
       "      <td>1</td>\n",
       "      <td>17.0</td>\n",
       "      <td>0.647059</td>\n",
       "      <td>0.492592</td>\n",
       "    </tr>\n",
       "    <tr>\n",
       "      <th>61</th>\n",
       "      <td>барабашка</td>\n",
       "      <td>1</td>\n",
       "      <td>17.0</td>\n",
       "      <td>0.647059</td>\n",
       "      <td>0.492592</td>\n",
       "    </tr>\n",
       "    <tr>\n",
       "      <th>622</th>\n",
       "      <td>капитошка</td>\n",
       "      <td>1</td>\n",
       "      <td>17.0</td>\n",
       "      <td>0.647059</td>\n",
       "      <td>0.492592</td>\n",
       "    </tr>\n",
       "    <tr>\n",
       "      <th>123</th>\n",
       "      <td>булькать</td>\n",
       "      <td>1</td>\n",
       "      <td>17.0</td>\n",
       "      <td>0.647059</td>\n",
       "      <td>0.492592</td>\n",
       "    </tr>\n",
       "    <tr>\n",
       "      <th>2044</th>\n",
       "      <td>ухлюпбеба</td>\n",
       "      <td>1</td>\n",
       "      <td>14.0</td>\n",
       "      <td>0.642857</td>\n",
       "      <td>0.497245</td>\n",
       "    </tr>\n",
       "    <tr>\n",
       "      <th>2162</th>\n",
       "      <td>чирибикнуться</td>\n",
       "      <td>1</td>\n",
       "      <td>14.0</td>\n",
       "      <td>0.642857</td>\n",
       "      <td>0.497245</td>\n",
       "    </tr>\n",
       "    <tr>\n",
       "      <th>273</th>\n",
       "      <td>гваделупа</td>\n",
       "      <td>1</td>\n",
       "      <td>28.0</td>\n",
       "      <td>0.642857</td>\n",
       "      <td>0.487950</td>\n",
       "    </tr>\n",
       "    <tr>\n",
       "      <th>1273</th>\n",
       "      <td>пипсов</td>\n",
       "      <td>1</td>\n",
       "      <td>11.0</td>\n",
       "      <td>0.636364</td>\n",
       "      <td>0.504525</td>\n",
       "    </tr>\n",
       "    <tr>\n",
       "      <th>946</th>\n",
       "      <td>мюзле</td>\n",
       "      <td>1</td>\n",
       "      <td>11.0</td>\n",
       "      <td>0.636364</td>\n",
       "      <td>0.504525</td>\n",
       "    </tr>\n",
       "    <tr>\n",
       "      <th>1239</th>\n",
       "      <td>пеня</td>\n",
       "      <td>1</td>\n",
       "      <td>19.0</td>\n",
       "      <td>0.631579</td>\n",
       "      <td>0.495595</td>\n",
       "    </tr>\n",
       "    <tr>\n",
       "      <th>925</th>\n",
       "      <td>моська</td>\n",
       "      <td>1</td>\n",
       "      <td>16.0</td>\n",
       "      <td>0.625000</td>\n",
       "      <td>0.500000</td>\n",
       "    </tr>\n",
       "    <tr>\n",
       "      <th>1902</th>\n",
       "      <td>тарантайка</td>\n",
       "      <td>1</td>\n",
       "      <td>16.0</td>\n",
       "      <td>0.625000</td>\n",
       "      <td>0.500000</td>\n",
       "    </tr>\n",
       "    <tr>\n",
       "      <th>963</th>\n",
       "      <td>надудонить</td>\n",
       "      <td>1</td>\n",
       "      <td>16.0</td>\n",
       "      <td>0.625000</td>\n",
       "      <td>0.500000</td>\n",
       "    </tr>\n",
       "    <tr>\n",
       "      <th>446</th>\n",
       "      <td>елозить</td>\n",
       "      <td>1</td>\n",
       "      <td>21.0</td>\n",
       "      <td>0.619048</td>\n",
       "      <td>0.497613</td>\n",
       "    </tr>\n",
       "    <tr>\n",
       "      <th>1632</th>\n",
       "      <td>рододендрон</td>\n",
       "      <td>1</td>\n",
       "      <td>18.0</td>\n",
       "      <td>0.611111</td>\n",
       "      <td>0.501631</td>\n",
       "    </tr>\n",
       "    <tr>\n",
       "      <th>831</th>\n",
       "      <td>лызгнуть</td>\n",
       "      <td>1</td>\n",
       "      <td>18.0</td>\n",
       "      <td>0.611111</td>\n",
       "      <td>0.501631</td>\n",
       "    </tr>\n",
       "    <tr>\n",
       "      <th>977</th>\n",
       "      <td>наначка</td>\n",
       "      <td>1</td>\n",
       "      <td>18.0</td>\n",
       "      <td>0.611111</td>\n",
       "      <td>0.501631</td>\n",
       "    </tr>\n",
       "    <tr>\n",
       "      <th>2098</th>\n",
       "      <td>хмели-сунели</td>\n",
       "      <td>1</td>\n",
       "      <td>28.0</td>\n",
       "      <td>0.607143</td>\n",
       "      <td>0.497347</td>\n",
       "    </tr>\n",
       "    <tr>\n",
       "      <th>2200</th>\n",
       "      <td>шмякнуть</td>\n",
       "      <td>1</td>\n",
       "      <td>15.0</td>\n",
       "      <td>0.600000</td>\n",
       "      <td>0.507093</td>\n",
       "    </tr>\n",
       "    <tr>\n",
       "      <th>1912</th>\n",
       "      <td>теребонькать</td>\n",
       "      <td>1</td>\n",
       "      <td>10.0</td>\n",
       "      <td>0.600000</td>\n",
       "      <td>0.516398</td>\n",
       "    </tr>\n",
       "    <tr>\n",
       "      <th>1231</th>\n",
       "      <td>пашка</td>\n",
       "      <td>1</td>\n",
       "      <td>10.0</td>\n",
       "      <td>0.600000</td>\n",
       "      <td>0.516398</td>\n",
       "    </tr>\n",
       "    <tr>\n",
       "      <th>621</th>\n",
       "      <td>капибара</td>\n",
       "      <td>1</td>\n",
       "      <td>10.0</td>\n",
       "      <td>0.600000</td>\n",
       "      <td>0.516398</td>\n",
       "    </tr>\n",
       "    <tr>\n",
       "      <th>1352</th>\n",
       "      <td>помпончик</td>\n",
       "      <td>1</td>\n",
       "      <td>15.0</td>\n",
       "      <td>0.600000</td>\n",
       "      <td>0.507093</td>\n",
       "    </tr>\n",
       "    <tr>\n",
       "      <th>683</th>\n",
       "      <td>козявка</td>\n",
       "      <td>1</td>\n",
       "      <td>15.0</td>\n",
       "      <td>0.600000</td>\n",
       "      <td>0.507093</td>\n",
       "    </tr>\n",
       "    <tr>\n",
       "      <th>917</th>\n",
       "      <td>мопс</td>\n",
       "      <td>1</td>\n",
       "      <td>10.0</td>\n",
       "      <td>0.600000</td>\n",
       "      <td>0.516398</td>\n",
       "    </tr>\n",
       "    <tr>\n",
       "      <th>893</th>\n",
       "      <td>миндальничать</td>\n",
       "      <td>1</td>\n",
       "      <td>10.0</td>\n",
       "      <td>0.600000</td>\n",
       "      <td>0.516398</td>\n",
       "    </tr>\n",
       "    <tr>\n",
       "      <th>2029</th>\n",
       "      <td>урюк</td>\n",
       "      <td>1</td>\n",
       "      <td>20.0</td>\n",
       "      <td>0.600000</td>\n",
       "      <td>0.502625</td>\n",
       "    </tr>\n",
       "    <tr>\n",
       "      <th>698</th>\n",
       "      <td>колыван</td>\n",
       "      <td>1</td>\n",
       "      <td>10.0</td>\n",
       "      <td>0.600000</td>\n",
       "      <td>0.516398</td>\n",
       "    </tr>\n",
       "    <tr>\n",
       "      <th>2136</th>\n",
       "      <td>чебупели</td>\n",
       "      <td>1</td>\n",
       "      <td>15.0</td>\n",
       "      <td>0.600000</td>\n",
       "      <td>0.507093</td>\n",
       "    </tr>\n",
       "    <tr>\n",
       "      <th>1548</th>\n",
       "      <td>пупочек</td>\n",
       "      <td>1</td>\n",
       "      <td>20.0</td>\n",
       "      <td>0.600000</td>\n",
       "      <td>0.502625</td>\n",
       "    </tr>\n",
       "    <tr>\n",
       "      <th>1545</th>\n",
       "      <td>пулька</td>\n",
       "      <td>1</td>\n",
       "      <td>10.0</td>\n",
       "      <td>0.600000</td>\n",
       "      <td>0.516398</td>\n",
       "    </tr>\n",
       "    <tr>\n",
       "      <th>1506</th>\n",
       "      <td>продриснуть</td>\n",
       "      <td>1</td>\n",
       "      <td>15.0</td>\n",
       "      <td>0.600000</td>\n",
       "      <td>0.507093</td>\n",
       "    </tr>\n",
       "    <tr>\n",
       "      <th>84</th>\n",
       "      <td>биточки</td>\n",
       "      <td>1</td>\n",
       "      <td>22.0</td>\n",
       "      <td>0.590909</td>\n",
       "      <td>0.503236</td>\n",
       "    </tr>\n",
       "    <tr>\n",
       "      <th>601</th>\n",
       "      <td>кабаса</td>\n",
       "      <td>1</td>\n",
       "      <td>17.0</td>\n",
       "      <td>0.588235</td>\n",
       "      <td>0.507300</td>\n",
       "    </tr>\n",
       "    <tr>\n",
       "      <th>177</th>\n",
       "      <td>вимблдон</td>\n",
       "      <td>1</td>\n",
       "      <td>17.0</td>\n",
       "      <td>0.588235</td>\n",
       "      <td>0.507300</td>\n",
       "    </tr>\n",
       "    <tr>\n",
       "      <th>2141</th>\n",
       "      <td>чеплашка</td>\n",
       "      <td>1</td>\n",
       "      <td>19.0</td>\n",
       "      <td>0.578947</td>\n",
       "      <td>0.507257</td>\n",
       "    </tr>\n",
       "    <tr>\n",
       "      <th>2066</th>\n",
       "      <td>финтифлюшка</td>\n",
       "      <td>1</td>\n",
       "      <td>19.0</td>\n",
       "      <td>0.578947</td>\n",
       "      <td>0.507257</td>\n",
       "    </tr>\n",
       "    <tr>\n",
       "      <th>2140</th>\n",
       "      <td>челочка</td>\n",
       "      <td>1</td>\n",
       "      <td>19.0</td>\n",
       "      <td>0.578947</td>\n",
       "      <td>0.507257</td>\n",
       "    </tr>\n",
       "    <tr>\n",
       "      <th>650</th>\n",
       "      <td>кекать</td>\n",
       "      <td>1</td>\n",
       "      <td>14.0</td>\n",
       "      <td>0.571429</td>\n",
       "      <td>0.513553</td>\n",
       "    </tr>\n",
       "    <tr>\n",
       "      <th>327</th>\n",
       "      <td>гуля</td>\n",
       "      <td>1</td>\n",
       "      <td>21.0</td>\n",
       "      <td>0.571429</td>\n",
       "      <td>0.507093</td>\n",
       "    </tr>\n",
       "    <tr>\n",
       "      <th>308</th>\n",
       "      <td>горлодер</td>\n",
       "      <td>1</td>\n",
       "      <td>14.0</td>\n",
       "      <td>0.571429</td>\n",
       "      <td>0.513553</td>\n",
       "    </tr>\n",
       "    <tr>\n",
       "      <th>296</th>\n",
       "      <td>гнус</td>\n",
       "      <td>1</td>\n",
       "      <td>14.0</td>\n",
       "      <td>0.571429</td>\n",
       "      <td>0.513553</td>\n",
       "    </tr>\n",
       "    <tr>\n",
       "      <th>1630</th>\n",
       "      <td>ржомба</td>\n",
       "      <td>1</td>\n",
       "      <td>21.0</td>\n",
       "      <td>0.571429</td>\n",
       "      <td>0.507093</td>\n",
       "    </tr>\n",
       "    <tr>\n",
       "      <th>861</th>\n",
       "      <td>мармозетка</td>\n",
       "      <td>1</td>\n",
       "      <td>21.0</td>\n",
       "      <td>0.571429</td>\n",
       "      <td>0.507093</td>\n",
       "    </tr>\n",
       "    <tr>\n",
       "      <th>1066</th>\n",
       "      <td>нюхлер</td>\n",
       "      <td>1</td>\n",
       "      <td>14.0</td>\n",
       "      <td>0.571429</td>\n",
       "      <td>0.513553</td>\n",
       "    </tr>\n",
       "    <tr>\n",
       "      <th>794</th>\n",
       "      <td>кутёнок</td>\n",
       "      <td>1</td>\n",
       "      <td>14.0</td>\n",
       "      <td>0.571429</td>\n",
       "      <td>0.513553</td>\n",
       "    </tr>\n",
       "    <tr>\n",
       "      <th>1600</th>\n",
       "      <td>расфуфыренный</td>\n",
       "      <td>1</td>\n",
       "      <td>23.0</td>\n",
       "      <td>0.565217</td>\n",
       "      <td>0.506870</td>\n",
       "    </tr>\n",
       "    <tr>\n",
       "      <th>571</th>\n",
       "      <td>ингеборга</td>\n",
       "      <td>1</td>\n",
       "      <td>16.0</td>\n",
       "      <td>0.562500</td>\n",
       "      <td>0.512348</td>\n",
       "    </tr>\n",
       "    <tr>\n",
       "      <th>1271</th>\n",
       "      <td>пипидастры</td>\n",
       "      <td>1</td>\n",
       "      <td>16.0</td>\n",
       "      <td>0.562500</td>\n",
       "      <td>0.512348</td>\n",
       "    </tr>\n",
       "    <tr>\n",
       "      <th>2248</th>\n",
       "      <td>ясельки</td>\n",
       "      <td>0</td>\n",
       "      <td>18.0</td>\n",
       "      <td>0.555556</td>\n",
       "      <td>0.511310</td>\n",
       "    </tr>\n",
       "    <tr>\n",
       "      <th>690</th>\n",
       "      <td>колдобиться</td>\n",
       "      <td>1</td>\n",
       "      <td>18.0</td>\n",
       "      <td>0.555556</td>\n",
       "      <td>0.511310</td>\n",
       "    </tr>\n",
       "    <tr>\n",
       "      <th>1378</th>\n",
       "      <td>поросюшка</td>\n",
       "      <td>1</td>\n",
       "      <td>18.0</td>\n",
       "      <td>0.555556</td>\n",
       "      <td>0.511310</td>\n",
       "    </tr>\n",
       "    <tr>\n",
       "      <th>494</th>\n",
       "      <td>закопушка</td>\n",
       "      <td>1</td>\n",
       "      <td>18.0</td>\n",
       "      <td>0.555556</td>\n",
       "      <td>0.511310</td>\n",
       "    </tr>\n",
       "    <tr>\n",
       "      <th>1324</th>\n",
       "      <td>пожёвывание</td>\n",
       "      <td>1</td>\n",
       "      <td>18.0</td>\n",
       "      <td>0.555556</td>\n",
       "      <td>0.511310</td>\n",
       "    </tr>\n",
       "    <tr>\n",
       "      <th>440</th>\n",
       "      <td>ебланить</td>\n",
       "      <td>1</td>\n",
       "      <td>18.0</td>\n",
       "      <td>0.555556</td>\n",
       "      <td>0.511310</td>\n",
       "    </tr>\n",
       "    <tr>\n",
       "      <th>770</th>\n",
       "      <td>куздра</td>\n",
       "      <td>1</td>\n",
       "      <td>20.0</td>\n",
       "      <td>0.550000</td>\n",
       "      <td>0.510418</td>\n",
       "    </tr>\n",
       "    <tr>\n",
       "      <th>2052</th>\n",
       "      <td>ушан</td>\n",
       "      <td>1</td>\n",
       "      <td>20.0</td>\n",
       "      <td>0.550000</td>\n",
       "      <td>0.510418</td>\n",
       "    </tr>\n",
       "    <tr>\n",
       "      <th>1206</th>\n",
       "      <td>очечник</td>\n",
       "      <td>1</td>\n",
       "      <td>20.0</td>\n",
       "      <td>0.550000</td>\n",
       "      <td>0.510418</td>\n",
       "    </tr>\n",
       "    <tr>\n",
       "      <th>1710</th>\n",
       "      <td>синячить</td>\n",
       "      <td>1</td>\n",
       "      <td>22.0</td>\n",
       "      <td>0.545455</td>\n",
       "      <td>0.509647</td>\n",
       "    </tr>\n",
       "    <tr>\n",
       "      <th>2030</th>\n",
       "      <td>усики</td>\n",
       "      <td>1</td>\n",
       "      <td>22.0</td>\n",
       "      <td>0.545455</td>\n",
       "      <td>0.509647</td>\n",
       "    </tr>\n",
       "    <tr>\n",
       "      <th>1887</th>\n",
       "      <td>сызрань</td>\n",
       "      <td>1</td>\n",
       "      <td>13.0</td>\n",
       "      <td>0.538462</td>\n",
       "      <td>0.518875</td>\n",
       "    </tr>\n",
       "    <tr>\n",
       "      <th>337</th>\n",
       "      <td>дапкунайте</td>\n",
       "      <td>1</td>\n",
       "      <td>13.0</td>\n",
       "      <td>0.538462</td>\n",
       "      <td>0.518875</td>\n",
       "    </tr>\n",
       "    <tr>\n",
       "      <th>1722</th>\n",
       "      <td>скокма</td>\n",
       "      <td>1</td>\n",
       "      <td>15.0</td>\n",
       "      <td>0.533333</td>\n",
       "      <td>0.516398</td>\n",
       "    </tr>\n",
       "    <tr>\n",
       "      <th>294</th>\n",
       "      <td>гнидка</td>\n",
       "      <td>1</td>\n",
       "      <td>15.0</td>\n",
       "      <td>0.533333</td>\n",
       "      <td>0.516398</td>\n",
       "    </tr>\n",
       "    <tr>\n",
       "      <th>687</th>\n",
       "      <td>кокотница</td>\n",
       "      <td>1</td>\n",
       "      <td>15.0</td>\n",
       "      <td>0.533333</td>\n",
       "      <td>0.516398</td>\n",
       "    </tr>\n",
       "    <tr>\n",
       "      <th>83</th>\n",
       "      <td>бирюльки</td>\n",
       "      <td>1</td>\n",
       "      <td>15.0</td>\n",
       "      <td>0.533333</td>\n",
       "      <td>0.516398</td>\n",
       "    </tr>\n",
       "    <tr>\n",
       "      <th>1907</th>\n",
       "      <td>телепаться</td>\n",
       "      <td>1</td>\n",
       "      <td>15.0</td>\n",
       "      <td>0.533333</td>\n",
       "      <td>0.516398</td>\n",
       "    </tr>\n",
       "    <tr>\n",
       "      <th>1266</th>\n",
       "      <td>пехора</td>\n",
       "      <td>1</td>\n",
       "      <td>15.0</td>\n",
       "      <td>0.533333</td>\n",
       "      <td>0.516398</td>\n",
       "    </tr>\n",
       "    <tr>\n",
       "      <th>54</th>\n",
       "      <td>балясина</td>\n",
       "      <td>1</td>\n",
       "      <td>15.0</td>\n",
       "      <td>0.533333</td>\n",
       "      <td>0.516398</td>\n",
       "    </tr>\n",
       "    <tr>\n",
       "      <th>929</th>\n",
       "      <td>мочало</td>\n",
       "      <td>1</td>\n",
       "      <td>15.0</td>\n",
       "      <td>0.533333</td>\n",
       "      <td>0.516398</td>\n",
       "    </tr>\n",
       "    <tr>\n",
       "      <th>658</th>\n",
       "      <td>кисик</td>\n",
       "      <td>1</td>\n",
       "      <td>15.0</td>\n",
       "      <td>0.533333</td>\n",
       "      <td>0.516398</td>\n",
       "    </tr>\n",
       "    <tr>\n",
       "      <th>116</th>\n",
       "      <td>бублик</td>\n",
       "      <td>1</td>\n",
       "      <td>17.0</td>\n",
       "      <td>0.529412</td>\n",
       "      <td>0.514496</td>\n",
       "    </tr>\n",
       "    <tr>\n",
       "      <th>466</th>\n",
       "      <td>жмых</td>\n",
       "      <td>1</td>\n",
       "      <td>17.0</td>\n",
       "      <td>0.529412</td>\n",
       "      <td>0.514496</td>\n",
       "    </tr>\n",
       "    <tr>\n",
       "      <th>52</th>\n",
       "      <td>балда</td>\n",
       "      <td>1</td>\n",
       "      <td>17.0</td>\n",
       "      <td>0.529412</td>\n",
       "      <td>0.514496</td>\n",
       "    </tr>\n",
       "    <tr>\n",
       "      <th>2060</th>\n",
       "      <td>фельдфебель</td>\n",
       "      <td>1</td>\n",
       "      <td>17.0</td>\n",
       "      <td>0.529412</td>\n",
       "      <td>0.514496</td>\n",
       "    </tr>\n",
       "    <tr>\n",
       "      <th>922</th>\n",
       "      <td>мормышка</td>\n",
       "      <td>1</td>\n",
       "      <td>17.0</td>\n",
       "      <td>0.529412</td>\n",
       "      <td>0.514496</td>\n",
       "    </tr>\n",
       "    <tr>\n",
       "      <th>35</th>\n",
       "      <td>апоп</td>\n",
       "      <td>1</td>\n",
       "      <td>17.0</td>\n",
       "      <td>0.529412</td>\n",
       "      <td>0.514496</td>\n",
       "    </tr>\n",
       "    <tr>\n",
       "      <th>1362</th>\n",
       "      <td>попадья</td>\n",
       "      <td>1</td>\n",
       "      <td>17.0</td>\n",
       "      <td>0.529412</td>\n",
       "      <td>0.514496</td>\n",
       "    </tr>\n",
       "    <tr>\n",
       "      <th>1542</th>\n",
       "      <td>пузо</td>\n",
       "      <td>1</td>\n",
       "      <td>17.0</td>\n",
       "      <td>0.529412</td>\n",
       "      <td>0.514496</td>\n",
       "    </tr>\n",
       "    <tr>\n",
       "      <th>1555</th>\n",
       "      <td>пуфик</td>\n",
       "      <td>1</td>\n",
       "      <td>17.0</td>\n",
       "      <td>0.529412</td>\n",
       "      <td>0.514496</td>\n",
       "    </tr>\n",
       "    <tr>\n",
       "      <th>2107</th>\n",
       "      <td>хохмочно</td>\n",
       "      <td>1</td>\n",
       "      <td>17.0</td>\n",
       "      <td>0.529412</td>\n",
       "      <td>0.514496</td>\n",
       "    </tr>\n",
       "    <tr>\n",
       "      <th>2102</th>\n",
       "      <td>хорь</td>\n",
       "      <td>1</td>\n",
       "      <td>17.0</td>\n",
       "      <td>0.529412</td>\n",
       "      <td>0.514496</td>\n",
       "    </tr>\n",
       "    <tr>\n",
       "      <th>2085</th>\n",
       "      <td>халабуда</td>\n",
       "      <td>1</td>\n",
       "      <td>17.0</td>\n",
       "      <td>0.529412</td>\n",
       "      <td>0.514496</td>\n",
       "    </tr>\n",
       "    <tr>\n",
       "      <th>554</th>\n",
       "      <td>зяблик</td>\n",
       "      <td>1</td>\n",
       "      <td>19.0</td>\n",
       "      <td>0.526316</td>\n",
       "      <td>0.512989</td>\n",
       "    </tr>\n",
       "    <tr>\n",
       "      <th>1360</th>\n",
       "      <td>попаданец</td>\n",
       "      <td>1</td>\n",
       "      <td>19.0</td>\n",
       "      <td>0.526316</td>\n",
       "      <td>0.512989</td>\n",
       "    </tr>\n",
       "    <tr>\n",
       "      <th>1971</th>\n",
       "      <td>тютелька</td>\n",
       "      <td>1</td>\n",
       "      <td>21.0</td>\n",
       "      <td>0.523810</td>\n",
       "      <td>0.511766</td>\n",
       "    </tr>\n",
       "    <tr>\n",
       "      <th>1264</th>\n",
       "      <td>петрило</td>\n",
       "      <td>1</td>\n",
       "      <td>21.0</td>\n",
       "      <td>0.523810</td>\n",
       "      <td>0.511766</td>\n",
       "    </tr>\n",
       "  </tbody>\n",
       "</table>\n",
       "</div>"
      ],
      "text/plain": [
       "                 word  orig_funny  count      mean       std\n",
       "2236         эчпочмак           1   14.0  1.000000  0.000000\n",
       "2082         фунфырик           1   13.0  1.000000  0.000000\n",
       "618        кандибобер           1   17.0  1.000000  0.000000\n",
       "118           бубылда           1   14.0  1.000000  0.000000\n",
       "450             жабик           1   13.0  1.000000  0.000000\n",
       "423          дудонить           1   21.0  0.952381  0.218218\n",
       "2159      чилипиздрик           1   21.0  0.952381  0.218218\n",
       "1556            пуцка           1   14.0  0.928571  0.267261\n",
       "738          кошонята           1   14.0  0.928571  0.267261\n",
       "1235      пек-пек-пек           1   12.0  0.916667  0.288675\n",
       "2209      шуршулькинс           1   17.0  0.882353  0.332106\n",
       "470             жопик           1   17.0  0.882353  0.332106\n",
       "1546             пупа           1   17.0  0.882353  0.332106\n",
       "1363      попандопало           1    8.0  0.875000  0.353553\n",
       "1222       парисосиса           1   16.0  0.875000  0.341565\n",
       "63           барабуля           1    8.0  0.875000  0.353553\n",
       "1068        обалдуйка           1   15.0  0.866667  0.351866\n",
       "1013      недотыкомка           1   15.0  0.866667  0.351866\n",
       "1716         сисязавр           1   21.0  0.857143  0.358569\n",
       "1270             пипа           1   14.0  0.857143  0.363137\n",
       "1229         пафнутий           1   21.0  0.857143  0.358569\n",
       "417         драндулет           1   12.0  0.833333  0.389249\n",
       "862          мармышка           1   17.0  0.823529  0.392953\n",
       "67            бдзёлка           1   28.0  0.821429  0.390021\n",
       "476             жупел           1   11.0  0.818182  0.404520\n",
       "2188        шебуршуля           1   16.0  0.812500  0.403113\n",
       "1243     пердимонокль           1   15.0  0.800000  0.414039\n",
       "2161      чирибикнуть           1   10.0  0.800000  0.421637\n",
       "2211        шушпанчик           1   20.0  0.800000  0.410391\n",
       "490            зазуля           1   20.0  0.800000  0.410391\n",
       "489           зазауля           1   15.0  0.800000  0.414039\n",
       "2147       черемякать           1   14.0  0.785714  0.425815\n",
       "1815  сподвыподвертом           1   28.0  0.785714  0.417855\n",
       "2108          хохотач           1   14.0  0.785714  0.425815\n",
       "785       куркуминоид           1   14.0  0.785714  0.425815\n",
       "2142      чеполохнуть           1   14.0  0.785714  0.425815\n",
       "447          епстудэй           1   14.0  0.785714  0.425815\n",
       "2208        шуршулька           1   14.0  0.785714  0.425815\n",
       "602           кабачок           1   14.0  0.785714  0.425815\n",
       "642            качуча           1   14.0  0.785714  0.425815\n",
       "1263           пестун           1   14.0  0.785714  0.425815\n",
       "775             кукух           1   27.0  0.777778  0.423659\n",
       "2113         хрюндель           1   27.0  0.777778  0.423659\n",
       "2138        чевапчичи           1   18.0  0.777778  0.427793\n",
       "2158         чикибряк           1   22.0  0.772727  0.428932\n",
       "774           кукусик           1   13.0  0.769231  0.438529\n",
       "436             ебака           1   17.0  0.764706  0.437237\n",
       "453              жбан           1   21.0  0.761905  0.436436\n",
       "2112             хрыч           1    8.0  0.750000  0.462910\n",
       "743          краковяк           1   12.0  0.750000  0.452267\n",
       "697          колыбаха           1   16.0  0.750000  0.447214\n",
       "1869         сукалень           1   16.0  0.750000  0.447214\n",
       "2212          шушутаж           1    8.0  0.750000  0.462910\n",
       "2045      ухохочешься           1    8.0  0.750000  0.462910\n",
       "239               вша           1   20.0  0.750000  0.444262\n",
       "232           всратыш           1   16.0  0.750000  0.447214\n",
       "790             курыч           1   27.0  0.740741  0.446576\n",
       "1794         сосиська           1   23.0  0.739130  0.448978\n",
       "62         барабулька           1   15.0  0.733333  0.457738\n",
       "1269            пивот           1   11.0  0.727273  0.467099\n",
       "506           замятыш           1   18.0  0.722222  0.460889\n",
       "462              жижа           1   18.0  0.722222  0.460889\n",
       "2171         чувылдра           1   14.0  0.714286  0.468807\n",
       "1796           сосняк           1   21.0  0.714286  0.462910\n",
       "685          коклетки           1   21.0  0.714286  0.462910\n",
       "1262     пескоструйка           1   21.0  0.714286  0.462910\n",
       "792          кутешата           1   21.0  0.714286  0.462910\n",
       "473          жужелица           1   14.0  0.714286  0.468807\n",
       "323           грязюка           1   14.0  0.714286  0.468807\n",
       "424            дудыка           1   17.0  0.705882  0.469668\n",
       "1236          пендель           1   17.0  0.705882  0.469668\n",
       "112            бровья           1   17.0  0.705882  0.469668\n",
       "222           впуклый           1   17.0  0.705882  0.469668\n",
       "0         yевмененько           1   17.0  0.705882  0.469668\n",
       "1901          танцули           1   17.0  0.705882  0.469668\n",
       "2109         хренюшка           1   17.0  0.705882  0.469668\n",
       "2194         шкварыга           1   17.0  0.705882  0.469668\n",
       "644          квакушка           1   10.0  0.700000  0.483046\n",
       "645            квакша           1   10.0  0.700000  0.483046\n",
       "452           жамкать           1   10.0  0.700000  0.483046\n",
       "2043              утя           1   10.0  0.700000  0.483046\n",
       "1292          плюмбум           1   10.0  0.700000  0.483046\n",
       "237            втулка           1   10.0  0.700000  0.483046\n",
       "1294            плюха           1   20.0  0.700000  0.470162\n",
       "803          лапульки           1   10.0  0.700000  0.483046\n",
       "437            ебалай           1   10.0  0.700000  0.483046\n",
       "329           гупёшка           1   10.0  0.700000  0.483046\n",
       "2205        штукенция           1   10.0  0.700000  0.483046\n",
       "828             лупка           1   23.0  0.695652  0.470472\n",
       "2004  уконтропупиться           1   16.0  0.687500  0.478714\n",
       "1496      проблядушки           1   16.0  0.687500  0.478714\n",
       "467           жмякать           1   16.0  0.687500  0.478714\n",
       "736           котёныш           1   16.0  0.687500  0.478714\n",
       "468            жожоба           1   22.0  0.681818  0.476731\n",
       "2090           хахаль           1   22.0  0.681818  0.476731\n",
       "1356          понюшка           1   22.0  0.681818  0.476731\n",
       "2003    уконтропупить           1   28.0  0.678571  0.475595\n",
       "117             бубун           1   15.0  0.666667  0.487950\n",
       "1278             пися           1   18.0  0.666667  0.485071\n",
       "79               биба           1   18.0  0.666667  0.485071\n",
       "2151      черномырдин           1   18.0  0.666667  0.485071\n",
       "943               мыш           1   15.0  0.666667  0.487950\n",
       "374         джемперок           1   12.0  0.666667  0.492366\n",
       "1397     посюсторонее           1   18.0  0.666667  0.485071\n",
       "1936       тошниловка           1   15.0  0.666667  0.487950\n",
       "2115             хуек           1   21.0  0.666667  0.483046\n",
       "547            зозуля           1   15.0  0.666667  0.487950\n",
       "2202         штанишки           1   18.0  0.666667  0.485071\n",
       "1977           тяпать           1   15.0  0.666667  0.487950\n",
       "88              блеба           1   20.0  0.650000  0.489360\n",
       "2026             упыр           1   17.0  0.647059  0.492592\n",
       "2128            цуцик           1   17.0  0.647059  0.492592\n",
       "1558         пчёльник           1   17.0  0.647059  0.492592\n",
       "2067     флексикокинг           1   17.0  0.647059  0.492592\n",
       "857       маньшипошки           1   17.0  0.647059  0.492592\n",
       "610            какуля           1   17.0  0.647059  0.492592\n",
       "61          барабашка           1   17.0  0.647059  0.492592\n",
       "622         капитошка           1   17.0  0.647059  0.492592\n",
       "123          булькать           1   17.0  0.647059  0.492592\n",
       "2044        ухлюпбеба           1   14.0  0.642857  0.497245\n",
       "2162    чирибикнуться           1   14.0  0.642857  0.497245\n",
       "273         гваделупа           1   28.0  0.642857  0.487950\n",
       "1273           пипсов           1   11.0  0.636364  0.504525\n",
       "946             мюзле           1   11.0  0.636364  0.504525\n",
       "1239             пеня           1   19.0  0.631579  0.495595\n",
       "925            моська           1   16.0  0.625000  0.500000\n",
       "1902       тарантайка           1   16.0  0.625000  0.500000\n",
       "963        надудонить           1   16.0  0.625000  0.500000\n",
       "446           елозить           1   21.0  0.619048  0.497613\n",
       "1632      рододендрон           1   18.0  0.611111  0.501631\n",
       "831          лызгнуть           1   18.0  0.611111  0.501631\n",
       "977           наначка           1   18.0  0.611111  0.501631\n",
       "2098     хмели-сунели           1   28.0  0.607143  0.497347\n",
       "2200         шмякнуть           1   15.0  0.600000  0.507093\n",
       "1912     теребонькать           1   10.0  0.600000  0.516398\n",
       "1231            пашка           1   10.0  0.600000  0.516398\n",
       "621          капибара           1   10.0  0.600000  0.516398\n",
       "1352        помпончик           1   15.0  0.600000  0.507093\n",
       "683           козявка           1   15.0  0.600000  0.507093\n",
       "917              мопс           1   10.0  0.600000  0.516398\n",
       "893     миндальничать           1   10.0  0.600000  0.516398\n",
       "2029             урюк           1   20.0  0.600000  0.502625\n",
       "698           колыван           1   10.0  0.600000  0.516398\n",
       "2136         чебупели           1   15.0  0.600000  0.507093\n",
       "1548          пупочек           1   20.0  0.600000  0.502625\n",
       "1545           пулька           1   10.0  0.600000  0.516398\n",
       "1506      продриснуть           1   15.0  0.600000  0.507093\n",
       "84            биточки           1   22.0  0.590909  0.503236\n",
       "601            кабаса           1   17.0  0.588235  0.507300\n",
       "177          вимблдон           1   17.0  0.588235  0.507300\n",
       "2141         чеплашка           1   19.0  0.578947  0.507257\n",
       "2066      финтифлюшка           1   19.0  0.578947  0.507257\n",
       "2140          челочка           1   19.0  0.578947  0.507257\n",
       "650            кекать           1   14.0  0.571429  0.513553\n",
       "327              гуля           1   21.0  0.571429  0.507093\n",
       "308          горлодер           1   14.0  0.571429  0.513553\n",
       "296              гнус           1   14.0  0.571429  0.513553\n",
       "1630           ржомба           1   21.0  0.571429  0.507093\n",
       "861        мармозетка           1   21.0  0.571429  0.507093\n",
       "1066           нюхлер           1   14.0  0.571429  0.513553\n",
       "794           кутёнок           1   14.0  0.571429  0.513553\n",
       "1600    расфуфыренный           1   23.0  0.565217  0.506870\n",
       "571         ингеборга           1   16.0  0.562500  0.512348\n",
       "1271       пипидастры           1   16.0  0.562500  0.512348\n",
       "2248          ясельки           0   18.0  0.555556  0.511310\n",
       "690       колдобиться           1   18.0  0.555556  0.511310\n",
       "1378        поросюшка           1   18.0  0.555556  0.511310\n",
       "494         закопушка           1   18.0  0.555556  0.511310\n",
       "1324      пожёвывание           1   18.0  0.555556  0.511310\n",
       "440          ебланить           1   18.0  0.555556  0.511310\n",
       "770            куздра           1   20.0  0.550000  0.510418\n",
       "2052             ушан           1   20.0  0.550000  0.510418\n",
       "1206          очечник           1   20.0  0.550000  0.510418\n",
       "1710         синячить           1   22.0  0.545455  0.509647\n",
       "2030            усики           1   22.0  0.545455  0.509647\n",
       "1887          сызрань           1   13.0  0.538462  0.518875\n",
       "337        дапкунайте           1   13.0  0.538462  0.518875\n",
       "1722           скокма           1   15.0  0.533333  0.516398\n",
       "294            гнидка           1   15.0  0.533333  0.516398\n",
       "687         кокотница           1   15.0  0.533333  0.516398\n",
       "83           бирюльки           1   15.0  0.533333  0.516398\n",
       "1907       телепаться           1   15.0  0.533333  0.516398\n",
       "1266           пехора           1   15.0  0.533333  0.516398\n",
       "54           балясина           1   15.0  0.533333  0.516398\n",
       "929            мочало           1   15.0  0.533333  0.516398\n",
       "658             кисик           1   15.0  0.533333  0.516398\n",
       "116            бублик           1   17.0  0.529412  0.514496\n",
       "466              жмых           1   17.0  0.529412  0.514496\n",
       "52              балда           1   17.0  0.529412  0.514496\n",
       "2060      фельдфебель           1   17.0  0.529412  0.514496\n",
       "922          мормышка           1   17.0  0.529412  0.514496\n",
       "35               апоп           1   17.0  0.529412  0.514496\n",
       "1362          попадья           1   17.0  0.529412  0.514496\n",
       "1542             пузо           1   17.0  0.529412  0.514496\n",
       "1555            пуфик           1   17.0  0.529412  0.514496\n",
       "2107         хохмочно           1   17.0  0.529412  0.514496\n",
       "2102             хорь           1   17.0  0.529412  0.514496\n",
       "2085         халабуда           1   17.0  0.529412  0.514496\n",
       "554            зяблик           1   19.0  0.526316  0.512989\n",
       "1360        попаданец           1   19.0  0.526316  0.512989\n",
       "1971         тютелька           1   21.0  0.523810  0.511766\n",
       "1264          петрило           1   21.0  0.523810  0.511766"
      ]
     },
     "execution_count": 25,
     "metadata": {},
     "output_type": "execute_result"
    }
   ],
   "source": [
    "# Смешные слова в порядке смешности\n",
    "pd.set_option('display.max_rows', res_f.shape[0]) \n",
    "res_f.sort_values('mean', ascending=False)"
   ]
  },
  {
   "cell_type": "markdown",
   "metadata": {
    "id": "F8z62NKf9ZGt"
   },
   "source": [
    "# Feature engineering"
   ]
  },
  {
   "cell_type": "markdown",
   "metadata": {
    "id": "hLcozo9E9ZGt"
   },
   "source": [
    "Удалим лишнюю информацию и перейдем к генерации свойств."
   ]
  },
  {
   "cell_type": "code",
   "execution_count": 26,
   "metadata": {
    "executionInfo": {
     "elapsed": 22700,
     "status": "ok",
     "timestamp": 1611569248003,
     "user": {
      "displayName": "Pavel Chernyshev",
      "photoUrl": "https://lh3.googleusercontent.com/a-/AOh14Gg8b2PvQoRs3F7D-4-MP57OGpvq7v5wEpOY621fBQ=s64",
      "userId": "09623423000235365789"
     },
     "user_tz": -180
    },
    "id": "M8NEoBmn9ZGt"
   },
   "outputs": [],
   "source": [
    "from sklearn.model_selection import train_test_split"
   ]
  },
  {
   "cell_type": "markdown",
   "metadata": {
    "id": "ZayzcmN19ZGu"
   },
   "source": [
    "На этом этапе делаю тест-трейн сплит (чтобы корректно делать feature selection)"
   ]
  },
  {
   "cell_type": "code",
   "execution_count": 27,
   "metadata": {
    "executionInfo": {
     "elapsed": 22531,
     "status": "ok",
     "timestamp": 1611569248004,
     "user": {
      "displayName": "Pavel Chernyshev",
      "photoUrl": "https://lh3.googleusercontent.com/a-/AOh14Gg8b2PvQoRs3F7D-4-MP57OGpvq7v5wEpOY621fBQ=s64",
      "userId": "09623423000235365789"
     },
     "user_tz": -180
    },
    "id": "f00O6pqs9ZGu"
   },
   "outputs": [],
   "source": [
    "X_train, X_test, y_train, y_test = train_test_split(df.drop(columns=['target','orig_funny', 'count', 'mean', 'std']),\n",
    "                                                    df['target'], test_size=0.15, random_state=42)"
   ]
  },
  {
   "cell_type": "markdown",
   "metadata": {
    "id": "jMokb4w39ZGu"
   },
   "source": [
    "## Лемматизация\n",
    "\n",
    "Для начала просто лемматизируем все слова. Это будет нужно и для работы с вики, и для работы с векторными моделями"
   ]
  },
  {
   "cell_type": "code",
   "execution_count": 28,
   "metadata": {
    "executionInfo": {
     "elapsed": 22315,
     "status": "ok",
     "timestamp": 1611569248016,
     "user": {
      "displayName": "Pavel Chernyshev",
      "photoUrl": "https://lh3.googleusercontent.com/a-/AOh14Gg8b2PvQoRs3F7D-4-MP57OGpvq7v5wEpOY621fBQ=s64",
      "userId": "09623423000235365789"
     },
     "user_tz": -180
    },
    "id": "JSpnd-ar9ZGv"
   },
   "outputs": [],
   "source": [
    "m = Mystem()\n",
    "wrong_words = []\n",
    "\n",
    "mapping_url = 'https://raw.githubusercontent.com/akutuzov/universal-pos-tags/4653e8a9154e93fe2f417c7fdb7a357b7d6ce333/ru-rnc.map'\n",
    "mystem2upos = {}\n",
    "r = requests.get(mapping_url, stream=True)\n",
    "for pair in r.text.split('\\n'):\n",
    "    pair = pair.split()\n",
    "    if len(pair) > 1:\n",
    "        mystem2upos[pair[0]] = pair[1]\n",
    "\n",
    "def tag_mystem(text, bastards=True, mapping=mystem2upos):\n",
    "    \n",
    "    '''\n",
    "Этот скрипт принимает на вход необработанный русский текст \n",
    "(одно предложение на строку или один абзац на строку).\n",
    "Он токенизируется, лемматизируется и размечается по частям речи с использованием Mystem.\n",
    "На выход подаётся последовательность разделенных пробелами лемм с частями речи \n",
    "(\"зеленый_NOUN трамвай_NOUN\").\n",
    "\n",
    "Сначала надо инициализировать m = MyStem()\n",
    "'''\n",
    "    \n",
    "    \n",
    "    # Обработка слов \n",
    "    text = text.strip() \n",
    "    processed = m.analyze(text)\n",
    "    w = processed[0]\n",
    "        \n",
    "    try:\n",
    "        lemma = w[\"analysis\"][0][\"lex\"].lower().strip()\n",
    "        pos = w[\"analysis\"][0][\"gr\"].split(',')[0]\n",
    "        pos = pos.split('=')[0].strip()\n",
    "    except IndexError:\n",
    "        print(w)\n",
    "    \n",
    "    if pos in mapping:\n",
    "        pos = mapping[pos]  # здесь мы конвертируем тэги\n",
    "    else:\n",
    "        pos = 'X'  # на случай, если попадется тэг, которого нет в маппинге\n",
    "    \n",
    "    tagged = lemma.lower() + '_' + pos\n",
    "    \n",
    "    bast = 0\n",
    "    if bastards is True:\n",
    "        try:\n",
    "            if w['analysis'][0]['qual'] == 'bastard':\n",
    "                bast = 1\n",
    "        except KeyError:\n",
    "            pass\n",
    "    \n",
    "    return tagged, bast"
   ]
  },
  {
   "cell_type": "code",
   "execution_count": 29,
   "metadata": {
    "executionInfo": {
     "elapsed": 22218,
     "status": "ok",
     "timestamp": 1611569248020,
     "user": {
      "displayName": "Pavel Chernyshev",
      "photoUrl": "https://lh3.googleusercontent.com/a-/AOh14Gg8b2PvQoRs3F7D-4-MP57OGpvq7v5wEpOY621fBQ=s64",
      "userId": "09623423000235365789"
     },
     "user_tz": -180
    },
    "id": "M-MdOXE69ZGv"
   },
   "outputs": [],
   "source": [
    "def detag(string):\n",
    "    lim = string.find('_')\n",
    "    if string[lim:] == '_PROPN':\n",
    "        return string[:lim].capitalize()\n",
    "    else:\n",
    "        return string[:lim]"
   ]
  },
  {
   "cell_type": "code",
   "execution_count": 30,
   "metadata": {
    "executionInfo": {
     "elapsed": 20779,
     "status": "ok",
     "timestamp": 1611569248020,
     "user": {
      "displayName": "Pavel Chernyshev",
      "photoUrl": "https://lh3.googleusercontent.com/a-/AOh14Gg8b2PvQoRs3F7D-4-MP57OGpvq7v5wEpOY621fBQ=s64",
      "userId": "09623423000235365789"
     },
     "user_tz": -180
    },
    "id": "sqagi2oQ9ZGv"
   },
   "outputs": [],
   "source": [
    "# Подвиг лизы, поправившей все слова\n",
    "wrong_marked = {'шаболд_NOUN':'шаболда_NOUN', \n",
    "                'порабабан_NOUN':'порабабану_ADV', \n",
    "                'нунчак_NOUN':'нунчаки_NOUN',\n",
    "                'пуцк_NOUN':'пуцка_NOUN',\n",
    "                'епстудэй_NOUN':'епстудэй_INTJ',\n",
    "                'гнидок_NOUN':'гнидка_NOUN',\n",
    "                'ебак_NOUN':'ебака_NOUN',\n",
    "                'продриснять_VERB':'продриснуть_VERB',\n",
    "                'кабас_NOUN':'кабаса_NOUN',\n",
    "                'кутешат_NOUN':'кутешонок_NOUN',\n",
    "                'ебенить_VERB':'ебеня_NOUN',\n",
    "                'охйовзес_NOUN':'охйовзес_INTJ',\n",
    "                'астралябия_NOUN':'астролябия_NOUN',\n",
    "                'плюмбум_ADV':'плюмбум_NOUN',\n",
    "                'гупешок_NOUN':'гупешка_NOUN',\n",
    "                'мыш_NOUN':'мышь_NOUN',\n",
    "                'треугольничка_NOUN':'треугольничек_NOUN',\n",
    "                'яселек_NOUN':'ясельки_NOUN',\n",
    "                'блеб_NOUN':'блеба_NOUN',\n",
    "                'чупакабр_NOUN':'чупакабра_NOUN',\n",
    "                'бровье_NOUN':'бровь_NOUN',\n",
    "                'мюзле_ADV':'мюзле_NOUN',\n",
    "                'дудык_NOUN':'дудыка_NOUN',\n",
    "                'зимбур_NOUN':'зимбура_NOUN',\n",
    "                'посюстороной_ADJ':'посюсторонний_ADJ',\n",
    "                'сукалень_NOUN':'сукалень_INTJ',\n",
    "                'уевмененький_ADJ':'уевмененько_ADV',\n",
    "                'ювелирок_NOUN':'ювелирка_NOUN',\n",
    "                'ржомб_NOUN':'ржомба_NOUN',\n",
    "                'шлюшандр_NOUN':'шлюшандра_NOUN',\n",
    "                'мамонный_ADJ':'мамона_PROPN',\n",
    "                'апоп_NOUN':'апоп_PROPN',\n",
    "                'зазауль_NOUN':'зазауля_NOUN',\n",
    "                'сподвыподверт_NOUN':'сподвыподвертом_ADV',\n",
    "                'изподподвыподверт_NOUN':'изподподвыподверта_ADV',\n",
    "                'обезьяньяног_NOUN':'обезьяньянога_NOUN',\n",
    "                'фаберже_NOUN':'фаберже_PROPN',\n",
    "                'престидиджижитатор_NOUN':'престидижитатор_NOUN',\n",
    "                'чевапчича_NOUN':'чевапчичи_NOUN',\n",
    "                'колыван_NOUN':'колыван_PROPN',\n",
    "                'скокм_NOUN':'скокма_PRON',\n",
    "                'барбариск_NOUN':'барбариска_NOUN',\n",
    "                'дапкунать_VERB':'дапкунайте_PROPN',\n",
    "                'попандопадать_VERB':'попандопуло_PROPN',\n",
    "                'володя_NOUN':'володя_PROPN',\n",
    "                'черномырдин_NOUN':'черномырдин_PROPN',\n",
    "                'краков_NOUN':'краков_PROPN',\n",
    "                'чулышман_NOUN':'чулышман_PROPN',\n",
    "                'исключительно_PART':'исключительно_ADV',\n",
    "                'когда_ADV':'когда_SCONJ',\n",
    "                'ингеборга_NOUN':'ингеборга_PROPN',\n",
    "                'ауфа_NOUN':'ауф_INTJ',\n",
    "                'иной_DET':'иной_PRON',\n",
    "                'один_DET':'один_NUM',\n",
    "                'крым_NOUN':'крым_PROPN',\n",
    "                'гваделупа_NOUN':'гваделупа_PROPN',\n",
    "                'никак_PART':'никак_PRON',\n",
    "                'ядвига_NOUN':'ядвига_PROPN',\n",
    "                'карл_NOUN':'карл_PROPN',\n",
    "                'после_ADV':'после_ADP',\n",
    "                'александр_NOUN':'александр_PROPN',\n",
    "                'федор_NOUN':'федор_PROPN',\n",
    "                'сызрань_NOUN':'сызрань_PROPN',\n",
    "                'илья_NOUN':'илья_PROPN',\n",
    "                'вилли_NOUN':'вилли_PROPN',\n",
    "                'камю_NOUN':'камю_PROPN',\n",
    "                'бугульма_NOUN':'бугульма_PROPN',\n",
    "                'однако_SCONJ':'однако_INTJ',\n",
    "                'куда_ADV':'куда_PRON',\n",
    "                'почти_ADV':'почти_ADP',\n",
    "                'ванючка_NOUN':'вонючка_NOUN'\n",
    "                }"
   ]
  },
  {
   "cell_type": "code",
   "execution_count": 31,
   "metadata": {
    "executionInfo": {
     "elapsed": 20097,
     "status": "ok",
     "timestamp": 1611569248021,
     "user": {
      "displayName": "Pavel Chernyshev",
      "photoUrl": "https://lh3.googleusercontent.com/a-/AOh14Gg8b2PvQoRs3F7D-4-MP57OGpvq7v5wEpOY621fBQ=s64",
      "userId": "09623423000235365789"
     },
     "user_tz": -180
    },
    "id": "FZSLYMjo9ZGw"
   },
   "outputs": [],
   "source": [
    "def eng_lemma(df, corrections=wrong_marked):\n",
    "    df['stem_bastard'] = [0] * df.shape[0]\n",
    "    for w in df['word']:\n",
    "        index = df[df['word'] == w].index[0]\n",
    "        stemed, bast = tag_mystem(w)\n",
    "        \n",
    "        if corrections is not None:\n",
    "            if stemed in wrong_marked:\n",
    "                stemed = corrections.get(stemed)\n",
    "        \n",
    "        df.loc[index, 'stem'] = stemed\n",
    "        df.loc[index, 'stem_bastard'] = bast\n",
    "        try:\n",
    "            df.loc[index, 'detagged'] = detag(stemed)\n",
    "        except AttributeError:\n",
    "            print(w, stemed, type(stemed))"
   ]
  },
  {
   "cell_type": "code",
   "execution_count": 32,
   "metadata": {
    "id": "rIFEFNnl9ZGw"
   },
   "outputs": [
    {
     "name": "stdout",
     "output_type": "stream",
     "text": [
      "Tagged 1912 words out of 1912 \n",
      "There are 163 bastards\n"
     ]
    }
   ],
   "source": [
    "eng_lemma(X_train)\n",
    "print(f\"Tagged {len(X_train['stem'])} words out of {X_train.shape[0]} \\nThere are {X_train[X_train['stem_bastard'] == 1].shape[0]} bastards\")"
   ]
  },
  {
   "cell_type": "code",
   "execution_count": 33,
   "metadata": {
    "id": "c7H-pSkn9ZGw"
   },
   "outputs": [],
   "source": [
    "eng_lemma(X_test)"
   ]
  },
  {
   "cell_type": "markdown",
   "metadata": {
    "id": "aEWlRaJ39ZGw"
   },
   "source": [
    "## Formal\n",
    "\n",
    "Для каждого типа признаков пишу функцию, его задающую; в конце пишу функцию, вызывающую все предыдущие функции."
   ]
  },
  {
   "cell_type": "markdown",
   "metadata": {
    "id": "2TboK11d9ZGx"
   },
   "source": [
    "### Длины слов"
   ]
  },
  {
   "cell_type": "code",
   "execution_count": 34,
   "metadata": {
    "id": "Q4iVyHKn9ZGx"
   },
   "outputs": [],
   "source": [
    "def eng_length(data):\n",
    "    data['length'] = [len(w.strip()) for w in data['word']]"
   ]
  },
  {
   "cell_type": "code",
   "execution_count": 35,
   "metadata": {
    "id": "qPRYaqap9ZGx"
   },
   "outputs": [],
   "source": [
    "eng_length(X_train)\n",
    "eng_length(X_test)"
   ]
  },
  {
   "cell_type": "markdown",
   "metadata": {
    "id": "zpBTmHkk9ZGx"
   },
   "source": [
    "### N-gram\n",
    "\n",
    "План такой:\n",
    "\n",
    "1) Делаем все n-gramm-ы до 3 (?) букв.\n",
    "\n",
    "2) После выбираем лучшие n-gramms (kBest, logistic reg или встречаемость в смешных-несмешных?)\n",
    "\n",
    "3) Пишим функцию препроцессинга для выделения этих n-gramms\n",
    "\n",
    "--"
   ]
  },
  {
   "cell_type": "markdown",
   "metadata": {
    "id": "Cbre5NTC9ZGx"
   },
   "source": [
    "#### 1) Векторизируем n-grams\n",
    "Сделал ограничение: минимум встречаемости – 5 слов"
   ]
  },
  {
   "cell_type": "code",
   "execution_count": 78,
   "metadata": {
    "id": "lEbd0_109ZGz"
   },
   "outputs": [
    {
     "name": "stdout",
     "output_type": "stream",
     "text": [
      "[' ', 'а', 'б', 'в', 'г', 'д', 'е', 'ж', 'з', 'и', 'й', 'к', 'л', 'м', 'н', 'о', 'п', 'р', 'с', 'т', 'у', 'ф', 'х', 'ц', 'ч', 'ш', 'щ', 'ъ', 'ы', 'ь', 'э', 'ю', 'я', 'ё']\n"
     ]
    }
   ],
   "source": [
    "# Смотрим сначала на униграммы\n",
    "cv = CountVectorizer(analyzer='char_wb', min_df=5).fit(X_train['word'])\n",
    "uni_train = cv.transform(X_train['word'])\n",
    "uni_test = cv.transform(X_test['word'])\n",
    "uni_names = cv.get_feature_names()\n",
    "print(uni_names)"
   ]
  },
  {
   "cell_type": "code",
   "execution_count": 79,
   "metadata": {
    "id": "gEx_vAV-9ZGz",
    "scrolled": true
   },
   "outputs": [],
   "source": [
    "#По 3-буквенным сочетаниям\n",
    "\n",
    "cv = CountVectorizer(ngram_range=(1, 3), analyzer='char_wb', min_df=5)\n",
    "cv.fit(X_train['word'])\n",
    "ngram_train = cv.transform(X_train['word'])\n",
    "ngram_test = cv.transform(X_test['word'])\n",
    "ngram_names = cv.get_feature_names()"
   ]
  },
  {
   "cell_type": "markdown",
   "metadata": {
    "id": "iKahxDzX9ZGz"
   },
   "source": [
    "#### 2a) Обучаем логистическую регрессию\n"
   ]
  },
  {
   "cell_type": "code",
   "execution_count": 80,
   "metadata": {
    "id": "CG00S8N29ZGz"
   },
   "outputs": [],
   "source": [
    "from sklearn.feature_selection import SelectKBest\n",
    "from sklearn.linear_model import LogisticRegression\n",
    "from sklearn.metrics import plot_roc_curve\n",
    "from sklearn.ensemble import RandomForestClassifier"
   ]
  },
  {
   "cell_type": "code",
   "execution_count": 81,
   "metadata": {
    "id": "viBgqOMS9ZGz"
   },
   "outputs": [],
   "source": [
    "def find_words(string):\n",
    "    \"\"\"\n",
    "    Возвращает смешные и несмешные слова, в которых есть данная строка\n",
    "    \"\"\"\n",
    "    counter = 0\n",
    "    print('Смешные:')\n",
    "    for item in df[df['target'] == 1]['word']:\n",
    "        if string in item:\n",
    "            print(item)\n",
    "            counter += 1\n",
    "    print(counter, '\\n')\n",
    "            \n",
    "    counter = 0\n",
    "    print('Несмешные:')\n",
    "    for item in df[df['target'] == 0]['word']:\n",
    "        if string in item:\n",
    "            print(item)\n",
    "            counter += 1\n",
    "    print(counter)"
   ]
  },
  {
   "cell_type": "code",
   "execution_count": 82,
   "metadata": {
    "id": "Rb1hptaf9ZG0"
   },
   "outputs": [],
   "source": [
    "def top_features(importance_array, n_features, title='feature importance', plot=True, names=ngram_names):\n",
    "    d = pd.DataFrame(data = importance_array, index = names, columns=['Importance'])\n",
    "    d = d.sort_values(by = 'Importance', ascending = False)\n",
    "    if plot is True:\n",
    "        return d[0:n_features].plot(kind='bar', title=title)\n",
    "    else:\n",
    "        return d[0:n_features]"
   ]
  },
  {
   "cell_type": "code",
   "execution_count": 83,
   "metadata": {
    "id": "oqWKSDek9ZG0"
   },
   "outputs": [],
   "source": [
    "#Функция для визуализации лучших коэффицентов. Чтобы посмотреть, как обстоит дело\n",
    "def visualize_coefficients(classifier, feature_names, n_top_features=25, title=None):\n",
    "    # get coefficients with large absolute values \n",
    "    coef = classifier.coef_.ravel()\n",
    "    positive_coefficients = np.argsort(coef)[-n_top_features:]\n",
    "    negative_coefficients = np.argsort(coef)[:n_top_features]\n",
    "    interesting_coefficients = np.hstack([negative_coefficients, positive_coefficients])\n",
    "    # plot them\n",
    "    plt.figure(figsize=(17, 5))\n",
    "    colors = [\"red\" if c < 0 else \"blue\" for c in coef[interesting_coefficients]]\n",
    "    plt.bar(np.arange(2 * n_top_features), coef[interesting_coefficients], color=colors)\n",
    "    feature_names = np.array(feature_names)\n",
    "    plt.xticks(np.arange(1, 1 + 2 * n_top_features), feature_names[interesting_coefficients], rotation=60, ha=\"right\");\n",
    "    plt.gca().set_title(title)"
   ]
  },
  {
   "cell_type": "markdown",
   "metadata": {
    "id": "WYrgdFUC9ZG0"
   },
   "source": [
    "Посмотрим сперва, как ведет себя на униграммах."
   ]
  },
  {
   "cell_type": "code",
   "execution_count": 84,
   "metadata": {
    "id": "oDh1F1FU9ZG0"
   },
   "outputs": [],
   "source": [
    "log = LogisticRegression().fit(uni_train, y_train)"
   ]
  },
  {
   "cell_type": "code",
   "execution_count": 85,
   "metadata": {
    "id": "lY9Gz0GQ9ZG0"
   },
   "outputs": [
    {
     "data": {
      "text/plain": [
       "Text(0.5, 1.0, 'test score')"
      ]
     },
     "execution_count": 85,
     "metadata": {},
     "output_type": "execute_result"
    },
    {
     "data": {
      "image/png": "[encoded data removed]",
      "text/plain": [
       "<Figure size 432x288 with 1 Axes>"
      ]
     },
     "metadata": {
      "needs_background": "light"
     },
     "output_type": "display_data"
    },
    {
     "data": {
      "image/png": "[encoded data removed]",
      "text/plain": [
       "<Figure size 432x288 with 1 Axes>"
      ]
     },
     "metadata": {
      "needs_background": "light"
     },
     "output_type": "display_data"
    }
   ],
   "source": [
    "plot_roc_curve(log, uni_train, y_train)\n",
    "plt.gca().set_title('train score')\n",
    "\n",
    "plot_roc_curve(log, uni_test, y_test)\n",
    "plt.gca().set_title('test score')"
   ]
  },
  {
   "cell_type": "markdown",
   "metadata": {
    "id": "_ld-8Jgo9ZG0"
   },
   "source": [
    "Результат ожидаемо плохой. Но я делал это не ради качества, а ради этого графика:"
   ]
  },
  {
   "cell_type": "code",
   "execution_count": 86,
   "metadata": {
    "id": "bys6lVS59ZG0"
   },
   "outputs": [
    {
     "data": {
      "image/png": "[encoded data removed]",
      "text/plain": [
       "<Figure size 1224x360 with 1 Axes>"
      ]
     },
     "metadata": {
      "needs_background": "light"
     },
     "output_type": "display_data"
    }
   ],
   "source": [
    "visualize_coefficients(log, uni_names, n_top_features=20, title='Важность букв')"
   ]
  },
  {
   "cell_type": "markdown",
   "metadata": {
    "id": "23LhDHJx9ZG1"
   },
   "source": [
    "**Замечания:**\n",
    "\n",
    "Слова на \"й\" (самая несмешная буква) – во многом окончания прилагательных. Неожиданно, но ладно.\n",
    "\n",
    "Самая смешная буква – 'х'. Не только из-за \"хуев\"! \n",
    "\n",
    "Дальше идет \"ю\", чуть позже \"у\". Может ли это быть подтверждением нашего предположения о том, что звук \"у\" как в \"мюсли\" – принципиально смешной? \n",
    "\n",
    "Рядом \"К\". Вспоминается 'k' как самая смешная согласная английского алфавита.\n",
    "\n",
    "Среди смешных есть дефис. Это результат того, что изначально несмешные слова я чистил по знакам препинания, а смешные – нет."
   ]
  },
  {
   "cell_type": "code",
   "execution_count": 87,
   "metadata": {
    "id": "oHlu8eF19ZG1"
   },
   "outputs": [
    {
     "name": "stderr",
     "output_type": "stream",
     "text": [
      "/Users/pasace/opt/anaconda3/lib/python3.8/site-packages/sklearn/linear_model/_logistic.py:762: ConvergenceWarning: lbfgs failed to converge (status=1):\n",
      "STOP: TOTAL NO. of ITERATIONS REACHED LIMIT.\n",
      "\n",
      "Increase the number of iterations (max_iter) or scale the data as shown in:\n",
      "    https://scikit-learn.org/stable/modules/preprocessing.html\n",
      "Please also refer to the documentation for alternative solver options:\n",
      "    https://scikit-learn.org/stable/modules/linear_model.html#logistic-regression\n",
      "  n_iter_i = _check_optimize_result(\n"
     ]
    }
   ],
   "source": [
    "log = LogisticRegression().fit(ngram_train,y_train)"
   ]
  },
  {
   "cell_type": "code",
   "execution_count": 88,
   "metadata": {
    "id": "mfcG3LIr9ZG1"
   },
   "outputs": [
    {
     "data": {
      "text/plain": [
       "Text(0.5, 1.0, 'test score')"
      ]
     },
     "execution_count": 88,
     "metadata": {},
     "output_type": "execute_result"
    },
    {
     "data": {
      "image/png": "[encoded data removed]",
      "text/plain": [
       "<Figure size 432x288 with 1 Axes>"
      ]
     },
     "metadata": {
      "needs_background": "light"
     },
     "output_type": "display_data"
    },
    {
     "data": {
      "image/png": "[encoded data removed]",
      "text/plain": [
       "<Figure size 432x288 with 1 Axes>"
      ]
     },
     "metadata": {
      "needs_background": "light"
     },
     "output_type": "display_data"
    }
   ],
   "source": [
    "plot_roc_curve(log, ngram_train, y_train)\n",
    "plt.gca().set_title('train score')\n",
    "\n",
    "plot_roc_curve(log, ngram_test, y_test)\n",
    "plt.gca().set_title('test score')"
   ]
  },
  {
   "cell_type": "markdown",
   "metadata": {
    "id": "kH7eUDt_9ZG1"
   },
   "source": [
    "Уже уже намного лучше! Не удивительно, здесь 4326 признаков!"
   ]
  },
  {
   "cell_type": "code",
   "execution_count": 89,
   "metadata": {
    "id": "NXfJoZ1g9ZG1"
   },
   "outputs": [
    {
     "data": {
      "image/png": "[encoded data removed]",
      "text/plain": [
       "<Figure size 1224x360 with 1 Axes>"
      ]
     },
     "metadata": {
      "needs_background": "light"
     },
     "output_type": "display_data"
    }
   ],
   "source": [
    "visualize_coefficients(log, cv.get_feature_names(), n_top_features=20, title='Важность n-gramm до 3')"
   ]
  },
  {
   "cell_type": "markdown",
   "metadata": {
    "id": "SDYNLTCO9ZG2"
   },
   "source": [
    "**Из предварительных наблюдений:**\n",
    "    \n",
    "\"Х\" и \"ю\" сохраняет позиции\n",
    "\n",
    "Встречаются пары буквосочетания \"сос\" (до этого еще был \"кок\"). Может стоить ввести признак \"повторяющаяяся буква\"?\n",
    "\n",
    "**Главный вопрос:** до какой степени мы можем использовать n-grammы? Насколько они переобучаются? С другой стороны н-граммы вроде \"уля\" – очевидно интерпретируемы и смешны"
   ]
  },
  {
   "cell_type": "markdown",
   "metadata": {
    "id": "W67SNxrs9ZG2"
   },
   "source": [
    "#### 2b) Попробуем деревянной моделью"
   ]
  },
  {
   "cell_type": "code",
   "execution_count": 90,
   "metadata": {
    "id": "hqGvWznd9ZG2"
   },
   "outputs": [],
   "source": [
    "forest = RandomForestClassifier(random_state=42).fit(ngram_train, y_train)"
   ]
  },
  {
   "cell_type": "code",
   "execution_count": 91,
   "metadata": {
    "id": "WIrI-tzt9ZG2"
   },
   "outputs": [
    {
     "data": {
      "text/plain": [
       "Text(0.5, 1.0, 'test score')"
      ]
     },
     "execution_count": 91,
     "metadata": {},
     "output_type": "execute_result"
    },
    {
     "data": {
      "image/png": "[encoded data removed]",
      "text/plain": [
       "<Figure size 432x288 with 1 Axes>"
      ]
     },
     "metadata": {
      "needs_background": "light"
     },
     "output_type": "display_data"
    }
   ],
   "source": [
    "plot_roc_curve(forest, ngram_test, y_test)\n",
    "plt.gca().set_title('test score')"
   ]
  },
  {
   "cell_type": "markdown",
   "metadata": {
    "id": "vltBl_UO9ZG2"
   },
   "source": [
    "Сравним оценку важности лесом и регрессией."
   ]
  },
  {
   "cell_type": "code",
   "execution_count": 92,
   "metadata": {
    "id": "2DyVnkts9ZG2"
   },
   "outputs": [
    {
     "data": {
      "image/png": "[encoded data removed]",
      "text/plain": [
       "<Figure size 936x216 with 1 Axes>"
      ]
     },
     "metadata": {
      "needs_background": "light"
     },
     "output_type": "display_data"
    },
    {
     "data": {
      "image/png": "[encoded data removed]",
      "text/plain": [
       "<Figure size 936x216 with 1 Axes>"
      ]
     },
     "metadata": {
      "needs_background": "light"
     },
     "output_type": "display_data"
    }
   ],
   "source": [
    "top_features(forest.feature_importances_, 40, title='Forest')\n",
    "plt.gcf().set_size_inches((13,3))\n",
    "top_features(log.coef_.T, 40, title='LogReg')\n",
    "plt.gcf().set_size_inches((13,3))"
   ]
  },
  {
   "cell_type": "markdown",
   "metadata": {
    "id": "Msh8e89z9ZG2"
   },
   "source": [
    "**Странно:** к вышла в лидеры, а х и я ушли куда-то далеко. Как и раньше наивысшая важность у отдельных букв. Странно!"
   ]
  },
  {
   "cell_type": "markdown",
   "metadata": {
    "id": "cqWdoIjF9ZG3"
   },
   "source": [
    "**Итого вопросы:** \n",
    "\n",
    "1) n-gramms могут быть подвержены переобучению. Брать их или все же униграммы?\n",
    "\n",
    "2) Как выбрать feature которые вставлять. И сколько?\n",
    "\n",
    "Посмотрим, какие пересекаются."
   ]
  },
  {
   "cell_type": "code",
   "execution_count": 51,
   "metadata": {
    "id": "4jCyVszT9ZG3"
   },
   "outputs": [
    {
     "name": "stdout",
     "output_type": "stream",
     "text": [
      "Пересекаются 46 элементов: \n",
      "['к', 'у', 'п', 'а ', 'ч', 'х', ' ж', 'уля', 'ля ', 'м', 'ба', 'ж', 'ы', 'ю', 'ьк', 'кат', 'пс', ' пи', 'ыр', 'я', 'в', 'пе', 'еб', 'шу', 'лд', 'ьки', 'ыш ', 'ля', ' х', ' е', 'ба ', 'ел', 'ан ', 'ик ', ' пе', 'мя', 'мы', 'тя', 'си', 'ки ', ' че', 'сос', 'др', 'бал', 'пи', 'ели']\n"
     ]
    }
   ],
   "source": [
    "top_for = top_features(forest.feature_importances_, 100, plot=False)\n",
    "top_log = top_features(log.coef_.T, 100, plot=False)\n",
    "\n",
    "top_ngrams = []\n",
    "for t in top_for.index:\n",
    "    if t in top_log.index:\n",
    "        top_ngrams.append(t)\n",
    "        \n",
    "print(f\"Пересекаются {len(top_ngrams)} элементов: \\n{top_ngrams}\")"
   ]
  },
  {
   "cell_type": "code",
   "execution_count": 52,
   "metadata": {
    "id": "XQWrhWTt9ZG3"
   },
   "outputs": [],
   "source": [
    "def eng_ngramm(data):\n",
    "    for ng in top_ngrams:\n",
    "        col_name = 'ngramm ' + ng\n",
    "        includes = []\n",
    "        for w in data['word']:\n",
    "            includes.append(len([m.start() for m in re.finditer(ng, w)]))\n",
    "            \n",
    "        data[col_name] = includes"
   ]
  },
  {
   "cell_type": "code",
   "execution_count": 53,
   "metadata": {
    "id": "B4i_Ac0a9ZG3"
   },
   "outputs": [],
   "source": [
    "eng_ngramm(X_train)\n",
    "eng_ngramm(X_test)"
   ]
  },
  {
   "cell_type": "markdown",
   "metadata": {
    "id": "zLV1odVT9ZG3"
   },
   "source": [
    "### ВикиСловарь\n",
    "\n",
    "Достаем оттуда транскрипции и классификацию слов"
   ]
  },
  {
   "cell_type": "code",
   "execution_count": 54,
   "metadata": {
    "id": "b7FFd7ey9ZG3"
   },
   "outputs": [],
   "source": [
    "def eng_wiki(word_list):\n",
    "    \n",
    "    #Достаю словарные теги викисловаря\n",
    "    tagpage = requests.get('https://ru.wiktionary.org/wiki/Викисловарь:Условные_сокращения')\n",
    "    soup0 = BeautifulSoup(tagpage.content, 'html.parser')\n",
    "    wiki_tags = []\n",
    "    a_wiki_tags = soup0.findAll('ul')[1]\n",
    "    b_wiki_tags = a_wiki_tags.findAll('i')\n",
    "    for b in b_wiki_tags:\n",
    "        c = b.string\n",
    "        wiki_tags.append(c)\n",
    "    \n",
    "    # делаю колонки в датафрейме\n",
    "    word_list['ipa'] = ['nan'] * word_list.shape[0]\n",
    "    word_list['not in wiki'] = [0] * word_list.shape[0]\n",
    "    for tag in wiki_tags:\n",
    "        word_list[tag] = [0] * word_list.shape[0]\n",
    "        \n",
    "    \n",
    "    \n",
    "    #Скачиваю страницу каждого слова   \n",
    "    for string in word_list['detagged']:\n",
    "        index = word_list[word_list['detagged'] == string].index[0]\n",
    "        \n",
    "        w_link = 'https://ru.wiktionary.org/wiki/' + string\n",
    "        page = requests.get(w_link)\n",
    "        soup = BeautifulSoup(page.content, 'html.parser')\n",
    "        \n",
    "        # Транскрипция\n",
    "        ip = soup.find('span', {'class': 'IPA'})\n",
    "        if ip != None:\n",
    "            word_list.loc[index,'ipa'] = str(ip.string)\n",
    "        else:\n",
    "            word_list.loc[index,'ipa'] = 'nan'\n",
    "            \n",
    "        # Добываем теги слова\n",
    "        # Трай на случай, если его нет в словаре\n",
    "        try:\n",
    "            ol = soup.find_all('ol')[0]\n",
    "            tagstags = ol.find_all('a', {'title':'Викисловарь:Условные сокращения'})\n",
    "            actual_tags = []\n",
    "            for tagtag in tagstags:\n",
    "                tt = tagtag.findChildren('span')\n",
    "                if tt[0].string in wiki_tags:\n",
    "                    actual_tags.append(tt[0].string)\n",
    "            #Вписываем в таблицу    \n",
    "            for act in actual_tags:\n",
    "                word_list.loc[index, act] = 1\n",
    "                \n",
    "        except IndexError:\n",
    "            word_list.loc[index, 'not in wiki'] = 1"
   ]
  },
  {
   "cell_type": "code",
   "execution_count": 55,
   "metadata": {
    "id": "AC0udf2d9ZG3"
   },
   "outputs": [
    {
     "name": "stdout",
     "output_type": "stream",
     "text": [
      "CPU times: user 2min 18s, sys: 3.29 s, total: 2min 21s\n",
      "Wall time: 19min 17s\n"
     ]
    }
   ],
   "source": [
    "%%time\n",
    "eng_wiki(X_train)"
   ]
  },
  {
   "cell_type": "code",
   "execution_count": 56,
   "metadata": {
    "id": "yUrzJMlU9ZG4"
   },
   "outputs": [
    {
     "name": "stdout",
     "output_type": "stream",
     "text": [
      "CPU times: user 24.2 s, sys: 573 ms, total: 24.8 s\n",
      "Wall time: 3min 26s\n"
     ]
    }
   ],
   "source": [
    "%%time\n",
    "eng_wiki(X_test)"
   ]
  },
  {
   "cell_type": "code",
   "execution_count": 57,
   "metadata": {},
   "outputs": [
    {
     "data": {
      "text/plain": [
       "1723        ˈskolʲskʲɪɪ̯\n",
       "2096    xʲɪrɐˈmanʲtʲɪɪ̯ə\n",
       "1772          sɐˈfkovɨɪ̯\n",
       "65            bɐˈsʲːeɪ̯n\n",
       "508        zənʲɪˈmat͡sːə\n",
       "              ...       \n",
       "1638               rublʲ\n",
       "1095         ɐpˈɕːaʐnɨɪ̯\n",
       "1130            onˈɫaɪ̯n\n",
       "1294             ˈplʲuxə\n",
       "860         ˈmarkʲɪtʲɪnk\n",
       "Name: ipa, Length: 1912, dtype: object"
      ]
     },
     "execution_count": 57,
     "metadata": {},
     "output_type": "execute_result"
    }
   ],
   "source": [
    "X_train['ipa']"
   ]
  },
  {
   "cell_type": "code",
   "execution_count": 58,
   "metadata": {
    "id": "cpMCIR1g9ZG4"
   },
   "outputs": [
    {
     "name": "stdout",
     "output_type": "stream",
     "text": [
      "Есть транскрипция для 1760 слов.\n",
      "Нет для 152.\n"
     ]
    }
   ],
   "source": [
    "print(f\"Есть транскрипция для {len(X_train.ipa[X_train.ipa != 'nan'])} слов.\\nНет для {len(X_train.ipa[X_train.ipa == 'nan'])}.\")"
   ]
  },
  {
   "cell_type": "markdown",
   "metadata": {
    "id": "kFZnr-LF9ZG4"
   },
   "source": [
    "### Фонетика"
   ]
  },
  {
   "cell_type": "markdown",
   "metadata": {},
   "source": [
    "#### Разделяем фонемы"
   ]
  },
  {
   "cell_type": "code",
   "execution_count": 102,
   "metadata": {},
   "outputs": [],
   "source": [
    "#ВРЕМЕННАЯ ШТУКА\n",
    "train = pd.read_csv('https://github.com/Chernechev/RussianFWords/raw/main/train.csv', index_col='Unnamed: 0')\n",
    "test = pd.read_csv('https://github.com/Chernechev/RussianFWords/raw/main/test.csv', index_col='Unnamed: 0')\n",
    "y_train = train['target']\n",
    "X_train = train.drop('target', axis=1)\n",
    "y_test = test['target']\n",
    "X_test = test.drop('target', axis=1)"
   ]
  },
  {
   "cell_type": "code",
   "execution_count": 103,
   "metadata": {
    "scrolled": true
   },
   "outputs": [],
   "source": [
    "#Парсим список фонем. Список существующих фонем – phs\n",
    "mfa = requests.get('https://ru.wikipedia.org/wiki/Таблица_МФА_для_русского_языка')\n",
    "soupmfa = BeautifulSoup(mfa.content, 'html.parser')\n",
    "spans = soupmfa.findAll('span', {'class': 'IPA'})\n",
    "phs = []\n",
    "for sp in spans:\n",
    "    atags = sp.findAll('a')\n",
    "    complete = []\n",
    "    for a in atags:\n",
    "        complete.append(a.contents[0])\n",
    "    phoneme = ''.join(complete)\n",
    "    chars = list(phoneme)\n",
    "    for s in chars:\n",
    "        if unicodedata.combining(s) != 0:\n",
    "            if unicodedata.name(s) == 'COMBINING PLUS SIGN BELOW':\n",
    "                s = 'ʲ'\n",
    "            else:\n",
    "                chars.remove(s)\n",
    "    phoneme = ''.join(chars)\n",
    "    \n",
    "    if phoneme not in phs:\n",
    "        phs.append(phoneme)\n",
    "        \n",
    "errors = ['ˈ◌','ɪˈtap', 'ˌ◌', 'ˌokəɫɐˈzʲemnɨɪ', '', 'ɕtɕ']\n",
    "for err in errors:\n",
    "    try:\n",
    "        phs.remove(err)\n",
    "    except ValueError:\n",
    "        pass"
   ]
  },
  {
   "cell_type": "code",
   "execution_count": 104,
   "metadata": {},
   "outputs": [],
   "source": [
    "def only_fonetic(df, other_df=None):\n",
    "    fon_list = []\n",
    "    for l in df['ipa']:\n",
    "        if type(l) != str:\n",
    "            fon_list.append(False)\n",
    "        else:\n",
    "            fon_list.append(True)\n",
    "    if other_df is None:\n",
    "        return df[fon_list]\n",
    "    else:\n",
    "        return other_df[fon_list]"
   ]
  },
  {
   "cell_type": "code",
   "execution_count": 105,
   "metadata": {
    "id": "Dd4K27VV9ZG4"
   },
   "outputs": [],
   "source": [
    "# Делаю bag of sounds, чтобы посмотреть\n",
    "fonetic_train = only_fonetic(X_train)\n",
    "fonetic_test = only_fonetic(X_test)\n",
    "fonetic_train_y = only_fonetic(X_train, other_df=y_train)\n",
    "fonetic_test_y = only_fonetic(X_test, other_df=y_test)"
   ]
  },
  {
   "cell_type": "markdown",
   "metadata": {},
   "source": [
    "#### Raw ipa signs"
   ]
  },
  {
   "cell_type": "code",
   "execution_count": 33,
   "metadata": {
    "id": "BuqjsFN99ZG5"
   },
   "outputs": [],
   "source": [
    "cv = CountVectorizer(analyzer='char_wb', min_df=5)\n",
    "cv.fit(fonetic_train['ipa'])\n",
    "signs_train = cv.transform(fonetic_train['ipa'])\n",
    "signs_test = cv.transform(fonetic_test['ipa'])\n",
    "signs_names = cv.get_feature_names()"
   ]
  },
  {
   "cell_type": "code",
   "execution_count": 34,
   "metadata": {
    "id": "TBcqOCYw9ZG5"
   },
   "outputs": [],
   "source": [
    "#Обучаю модель чтобы получить самые смешные звуки\n",
    "log = LogisticRegression().fit(signs_train, fonetic_train_y)"
   ]
  },
  {
   "cell_type": "code",
   "execution_count": 35,
   "metadata": {
    "id": "f7kpa5e69ZG5"
   },
   "outputs": [
    {
     "data": {
      "text/plain": [
       "Text(0.5, 1.0, 'test score')"
      ]
     },
     "execution_count": 35,
     "metadata": {},
     "output_type": "execute_result"
    },
    {
     "data": {
      "image/png": "[encoded data removed]",
      "text/plain": [
       "<Figure size 432x288 with 1 Axes>"
      ]
     },
     "metadata": {
      "needs_background": "light"
     },
     "output_type": "display_data"
    },
    {
     "data": {
      "image/png": "[encoded data removed]",
      "text/plain": [
       "<Figure size 432x288 with 1 Axes>"
      ]
     },
     "metadata": {
      "needs_background": "light"
     },
     "output_type": "display_data"
    }
   ],
   "source": [
    "plot_roc_curve(log, signs_train, fonetic_train_y)\n",
    "plt.gca().set_title('train score')\n",
    "\n",
    "plot_roc_curve(log, signs_test, fonetic_test_y)\n",
    "plt.gca().set_title('test score')"
   ]
  },
  {
   "cell_type": "code",
   "execution_count": 36,
   "metadata": {
    "id": "tkghNdX99ZG5"
   },
   "outputs": [
    {
     "ename": "NameError",
     "evalue": "name 'top_features' is not defined",
     "output_type": "error",
     "traceback": [
      "\u001b[0;31m---------------------------------------------------------------------------\u001b[0m",
      "\u001b[0;31mNameError\u001b[0m                                 Traceback (most recent call last)",
      "\u001b[0;32m<ipython-input-36-531e603d9965>\u001b[0m in \u001b[0;36m<module>\u001b[0;34m\u001b[0m\n\u001b[0;32m----> 1\u001b[0;31m \u001b[0mtop_features\u001b[0m\u001b[0;34m(\u001b[0m\u001b[0mlog\u001b[0m\u001b[0;34m.\u001b[0m\u001b[0mcoef_\u001b[0m\u001b[0;34m.\u001b[0m\u001b[0mT\u001b[0m\u001b[0;34m,\u001b[0m \u001b[0;36m10\u001b[0m\u001b[0;34m,\u001b[0m \u001b[0mtitle\u001b[0m\u001b[0;34m=\u001b[0m\u001b[0;34m'Top ipa signs'\u001b[0m\u001b[0;34m,\u001b[0m \u001b[0mnames\u001b[0m\u001b[0;34m=\u001b[0m\u001b[0msigns_names\u001b[0m\u001b[0;34m)\u001b[0m\u001b[0;34m\u001b[0m\u001b[0;34m\u001b[0m\u001b[0m\n\u001b[0m\u001b[1;32m      2\u001b[0m \u001b[0mplt\u001b[0m\u001b[0;34m.\u001b[0m\u001b[0mgcf\u001b[0m\u001b[0;34m(\u001b[0m\u001b[0;34m)\u001b[0m\u001b[0;34m.\u001b[0m\u001b[0mset_size_inches\u001b[0m\u001b[0;34m(\u001b[0m\u001b[0;34m(\u001b[0m\u001b[0;36m13\u001b[0m\u001b[0;34m,\u001b[0m\u001b[0;36m3\u001b[0m\u001b[0;34m)\u001b[0m\u001b[0;34m)\u001b[0m\u001b[0;34m\u001b[0m\u001b[0;34m\u001b[0m\u001b[0m\n",
      "\u001b[0;31mNameError\u001b[0m: name 'top_features' is not defined"
     ]
    }
   ],
   "source": [
    "top_features(log.coef_.T, 10, title='Top ipa signs', names=signs_names)\n",
    "plt.gcf().set_size_inches((13,3))"
   ]
  },
  {
   "cell_type": "code",
   "execution_count": 37,
   "metadata": {},
   "outputs": [
    {
     "ename": "NameError",
     "evalue": "name 'top_features' is not defined",
     "output_type": "error",
     "traceback": [
      "\u001b[0;31m---------------------------------------------------------------------------\u001b[0m",
      "\u001b[0;31mNameError\u001b[0m                                 Traceback (most recent call last)",
      "\u001b[0;32m<ipython-input-37-55d5962ddab6>\u001b[0m in \u001b[0;36m<module>\u001b[0;34m\u001b[0m\n\u001b[0;32m----> 1\u001b[0;31m \u001b[0mtop_signs\u001b[0m \u001b[0;34m=\u001b[0m \u001b[0mtop_features\u001b[0m\u001b[0;34m(\u001b[0m\u001b[0mlog\u001b[0m\u001b[0;34m.\u001b[0m\u001b[0mcoef_\u001b[0m\u001b[0;34m.\u001b[0m\u001b[0mT\u001b[0m\u001b[0;34m,\u001b[0m \u001b[0;36m10\u001b[0m\u001b[0;34m,\u001b[0m \u001b[0mplot\u001b[0m\u001b[0;34m=\u001b[0m\u001b[0;32mFalse\u001b[0m\u001b[0;34m,\u001b[0m \u001b[0mnames\u001b[0m\u001b[0;34m=\u001b[0m\u001b[0msigns_names\u001b[0m\u001b[0;34m)\u001b[0m\u001b[0;34m.\u001b[0m\u001b[0mT\u001b[0m\u001b[0;34m\u001b[0m\u001b[0;34m\u001b[0m\u001b[0m\n\u001b[0m",
      "\u001b[0;31mNameError\u001b[0m: name 'top_features' is not defined"
     ]
    }
   ],
   "source": [
    "top_signs = top_features(log.coef_.T, 10, plot=False, names=signs_names).T"
   ]
  },
  {
   "cell_type": "markdown",
   "metadata": {},
   "source": [
    "Интересно, что как и в ngrams важно \"х\" и \"у\". Надо отметить, что '͡' и 'ʲ' – это части составных фонем. Следует выделить их наличие в отдельный признах "
   ]
  },
  {
   "cell_type": "markdown",
   "metadata": {},
   "source": [
    "#### Превращаем в признак"
   ]
  },
  {
   "cell_type": "code",
   "execution_count": 71,
   "metadata": {
    "id": "MtVLNH6C9ZG5"
   },
   "outputs": [],
   "source": [
    "def eng_signs(data):\n",
    "    for ng in top_signs:\n",
    "        col_name = 'sign ' + ng\n",
    "        includes = []\n",
    "        for w in data['ipa']:\n",
    "            includes.append(len([m.start() for m in re.finditer(ng, w)]))\n",
    "            \n",
    "        data[col_name] = includes"
   ]
  },
  {
   "cell_type": "code",
   "execution_count": 72,
   "metadata": {
    "id": "5xFq9ztl9ZG5"
   },
   "outputs": [],
   "source": [
    "eng_signs(X_train)\n",
    "eng_signs(X_test)"
   ]
  },
  {
   "cell_type": "markdown",
   "metadata": {},
   "source": [
    "### Фонемы"
   ]
  },
  {
   "cell_type": "code",
   "execution_count": 73,
   "metadata": {},
   "outputs": [],
   "source": [
    "sounds_names = ['sound ' + ph for ph in phs]\n",
    "\n",
    "def phonetize(fonetic_df):\n",
    "    sounds_df = pd.DataFrame(columns = sounds_names, index=fonetic_df.index)\n",
    "    for index in fonetic_df.index:\n",
    "        w = fonetic_df.at[index, 'ipa']\n",
    "        for ph in phs:\n",
    "            try:\n",
    "                if ph in w:\n",
    "                    sounds_df.at[index, f\"sound {ph}\"] = 1\n",
    "                else:\n",
    "                    sounds_df.at[index, f\"sound {ph}\"] = 0\n",
    "            except TypeError:\n",
    "                print('Нечистый фонетик дф дан на вход!')\n",
    "    return sounds_df"
   ]
  },
  {
   "cell_type": "code",
   "execution_count": 74,
   "metadata": {},
   "outputs": [],
   "source": [
    "sounds_train = phonetize(fonetic_train)\n",
    "sounds_test = phonetize(fonetic_test)"
   ]
  },
  {
   "cell_type": "code",
   "execution_count": 75,
   "metadata": {},
   "outputs": [],
   "source": [
    "sounds_log = LogisticRegression().fit(sounds_train, fonetic_train_y)"
   ]
  },
  {
   "cell_type": "code",
   "execution_count": 76,
   "metadata": {},
   "outputs": [
    {
     "data": {
      "text/plain": [
       "Text(0.5, 1.0, 'test score')"
      ]
     },
     "execution_count": 76,
     "metadata": {},
     "output_type": "execute_result"
    },
    {
     "data": {
      "image/png": "[encoded data removed]",
      "text/plain": [
       "<Figure size 432x288 with 1 Axes>"
      ]
     },
     "metadata": {
      "needs_background": "light"
     },
     "output_type": "display_data"
    },
    {
     "data": {
      "image/png": "[encoded data removed]",
      "text/plain": [
       "<Figure size 432x288 with 1 Axes>"
      ]
     },
     "metadata": {
      "needs_background": "light"
     },
     "output_type": "display_data"
    }
   ],
   "source": [
    "plot_roc_curve(sounds_log, sounds_train, fonetic_train_y)\n",
    "plt.gca().set_title('train score')\n",
    "\n",
    "plot_roc_curve(sounds_log, sounds_test, fonetic_test_y)\n",
    "plt.gca().set_title('test score')"
   ]
  },
  {
   "cell_type": "code",
   "execution_count": 93,
   "metadata": {},
   "outputs": [
    {
     "data": {
      "image/png": "[encoded data removed]",
      "text/plain": [
       "<Figure size 1080x360 with 1 Axes>"
      ]
     },
     "metadata": {
      "needs_background": "light"
     },
     "output_type": "display_data"
    }
   ],
   "source": [
    "top_features(sounds_log.coef_.T, 15, title='Top sounds', names=sounds_names)\n",
    "plt.gcf().set_size_inches((15,5))\n",
    "\n",
    "top_sounds = top_features(sounds_log.coef_.T, 15, plot=False, names=sounds_names).T"
   ]
  },
  {
   "cell_type": "markdown",
   "metadata": {},
   "source": [
    "#### Превращаем в признак"
   ]
  },
  {
   "cell_type": "code",
   "execution_count": 106,
   "metadata": {},
   "outputs": [],
   "source": [
    "def eng_sounds(data):\n",
    "    fonetic_df = phonetize(only_fonetic(data))\n",
    "    for sound in top_sounds.columns:\n",
    "        data[sound] = fonetic_df[sound]"
   ]
  },
  {
   "cell_type": "code",
   "execution_count": 107,
   "metadata": {},
   "outputs": [],
   "source": [
    "eng_sounds(X_train)\n",
    "eng_sounds(X_test)"
   ]
  },
  {
   "cell_type": "markdown",
   "metadata": {},
   "source": [
    " **ЗДЕСЬ НАДО ИСПОЛЬЗОВАТЬ ТЕТРАДЬ corpus_spider (работает 70 мин на трейне) ДЛЯ ПОЛУЧЕНИЯ ЧАСТОТНОСТИ СЛОВ**"
   ]
  },
  {
   "cell_type": "markdown",
   "metadata": {},
   "source": [
    "## Препроцессинг целиком"
   ]
  },
  {
   "cell_type": "code",
   "execution_count": 73,
   "metadata": {
    "id": "hDlHzIKN9ZHA"
   },
   "outputs": [],
   "source": [
    "def preprocess(df, name):\n",
    "    \"\"\"\n",
    "    На вход подается датафрейм состоящий только из колонки 'word', в которой слова\n",
    "    \"\"\"\n",
    "    eng_lemma(df)\n",
    "    eng_length(df)\n",
    "    eng_ngramm(df)\n",
    "    eng_wiki(df)\n",
    "    eng_signs(df)\n",
    "    eng_sounds(df)\n",
    "    \n",
    "    df.to_csv(name)\n",
    "    # Плюс еще нужно сделать частоту (в другой тетрадке)"
   ]
  },
  {
   "cell_type": "code",
   "execution_count": 108,
   "metadata": {},
   "outputs": [],
   "source": [
    "## Экспортируем то, что получилось\n",
    "\n",
    "train = pd.concat([X_train, y_train], axis=1)\n",
    "train.to_csv('train.csv')\n",
    "test = pd.concat([X_test, y_test], axis=1)\n",
    "test.to_csv('test.csv')"
   ]
  },
  {
   "cell_type": "code",
   "execution_count": null,
   "metadata": {},
   "outputs": [],
   "source": [
    "pd.set_option('display.max_columns', test.shape[1]) \n",
    "test"
   ]
  }
 ],
 "metadata": {
  "colab": {
   "collapsed_sections": [
    "HBj_V-sm9ZHB",
    "c1baq6GR9ZHC"
   ],
   "name": "Generate_Features.ipynb",
   "provenance": [],
   "toc_visible": true
  },
  "kernelspec": {
   "display_name": "Python 3",
   "language": "python",
   "name": "python3"
  },
  "language_info": {
   "codemirror_mode": {
    "name": "ipython",
    "version": 3
   },
   "file_extension": ".py",
   "mimetype": "text/x-python",
   "name": "python",
   "nbconvert_exporter": "python",
   "pygments_lexer": "ipython3",
   "version": "3.8.3"
  }
 },
 "nbformat": 4,
 "nbformat_minor": 1
}
